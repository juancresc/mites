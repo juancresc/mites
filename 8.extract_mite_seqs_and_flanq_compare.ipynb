{
 "cells": [
  {
   "cell_type": "code",
   "execution_count": 130,
   "metadata": {},
   "outputs": [],
   "source": [
    "import pandas as pd\n",
    "from Bio import SeqIO\n",
    "from Bio.SeqRecord import SeqRecord\n",
    "from Bio.Seq import Seq\n",
    "from subprocess import Popen, PIPE\n",
    "import os\n",
    "import pathlib\n",
    "import shutil\n",
    "import os\n"
   ]
  },
  {
   "cell_type": "code",
   "execution_count": 131,
   "metadata": {},
   "outputs": [],
   "source": [
    "flank_len = 50"
   ]
  },
  {
   "cell_type": "code",
   "execution_count": 132,
   "metadata": {},
   "outputs": [],
   "source": [
    "#RICE"
   ]
  },
  {
   "cell_type": "code",
   "execution_count": 178,
   "metadata": {},
   "outputs": [],
   "source": [
    "name = '96'\n",
    "organism = 'rice'"
   ]
  },
  {
   "cell_type": "code",
   "execution_count": 179,
   "metadata": {},
   "outputs": [],
   "source": [
    "path_genome = '/home/juan/Desktop/juan/bio/data/genomes/rice/IRGSP-1.0_genome.fasta'\n",
    "path_gff = 'data/' + organism + '/' + name + '.filtered.gff3'\n",
    "path_out = 'data/' + organism + '/' + name + '.filtered.fasta'\n",
    "path_out_flank = 'data/' + organism + '/' + name + '.filtered.flank.fasta'\n",
    "path_out_only_flank = 'data/' + organism + '/' + name + '.filtered.onlyflank.fasta'\n",
    "c_dir  = 'data/' + organism + '/' + name + '_clus/'\n",
    "pid = 0.3"
   ]
  },
  {
   "cell_type": "code",
   "execution_count": null,
   "metadata": {},
   "outputs": [],
   "source": [
    "#WHEAT"
   ]
  },
  {
   "cell_type": "code",
   "execution_count": 205,
   "metadata": {},
   "outputs": [],
   "source": [
    "\n",
    "\n",
    "\n",
    "name = 'minos'\n",
    "name = '87481'\n",
    "name = '109136'\n",
    "name = '117188'"
   ]
  },
  {
   "cell_type": "code",
   "execution_count": 206,
   "metadata": {},
   "outputs": [],
   "source": [
    "path_genome = '/home/juan/Desktop/juan/bio/data/IWGSC/42/Triticum_aestivum.IWGSC.dna.toplevel.fa'\n",
    "path_gff = 'data/wheat/' + name + '.filtered.gff3'\n",
    "path_out = 'data/wheat/' + name + '.filtered.fasta'\n",
    "path_out_flank = 'data/wheat/' + name + '.filtered.flank.fasta'\n",
    "path_out_only_flank = 'data/wheat/' + name + '.filtered.onlyflank.fasta'\n",
    "c_dir  = 'data/wheat/' + name + '_clus/'\n",
    "pid = 0.3"
   ]
  },
  {
   "cell_type": "code",
   "execution_count": null,
   "metadata": {},
   "outputs": [],
   "source": []
  },
  {
   "cell_type": "code",
   "execution_count": 215,
   "metadata": {},
   "outputs": [
    {
     "name": "stdout",
     "output_type": "stream",
     "text": [
      "104\n"
     ]
    }
   ],
   "source": [
    "df = pd.read_csv(path_gff, sep='\\t')\n",
    "df.columns = ['seqname', 'source', 'feature', 'start', 'end', 'score', 'strand', 'frame', 'attribute']\n",
    "ele_len = (len(df.index))\n",
    "print(ele_len)"
   ]
  },
  {
   "cell_type": "code",
   "execution_count": 216,
   "metadata": {},
   "outputs": [],
   "source": [
    "pd.set_option('display.max_colwidth', -1)\n"
   ]
  },
  {
   "cell_type": "code",
   "execution_count": 217,
   "metadata": {},
   "outputs": [
    {
     "data": {
      "text/html": [
       "<div>\n",
       "<style scoped>\n",
       "    .dataframe tbody tr th:only-of-type {\n",
       "        vertical-align: middle;\n",
       "    }\n",
       "\n",
       "    .dataframe tbody tr th {\n",
       "        vertical-align: top;\n",
       "    }\n",
       "\n",
       "    .dataframe thead th {\n",
       "        text-align: right;\n",
       "    }\n",
       "</style>\n",
       "<table border=\"1\" class=\"dataframe\">\n",
       "  <thead>\n",
       "    <tr style=\"text-align: right;\">\n",
       "      <th></th>\n",
       "      <th>seqname</th>\n",
       "      <th>source</th>\n",
       "      <th>feature</th>\n",
       "      <th>start</th>\n",
       "      <th>end</th>\n",
       "      <th>score</th>\n",
       "      <th>strand</th>\n",
       "      <th>frame</th>\n",
       "      <th>attribute</th>\n",
       "    </tr>\n",
       "  </thead>\n",
       "  <tbody>\n",
       "    <tr>\n",
       "      <th>0</th>\n",
       "      <td>1B</td>\n",
       "      <td>MITE</td>\n",
       "      <td>TE</td>\n",
       "      <td>5749364</td>\n",
       "      <td>5749453</td>\n",
       "      <td>.</td>\n",
       "      <td>+</td>\n",
       "      <td>.</td>\n",
       "      <td>MITE_T_109136|chr6B|164810296|164810388|CAG|97|F4960</td>\n",
       "    </tr>\n",
       "    <tr>\n",
       "      <th>1</th>\n",
       "      <td>1B</td>\n",
       "      <td>MITE</td>\n",
       "      <td>TE</td>\n",
       "      <td>61951691</td>\n",
       "      <td>61951779</td>\n",
       "      <td>.</td>\n",
       "      <td>+</td>\n",
       "      <td>.</td>\n",
       "      <td>MITE_T_109136|chr6B|164810296|164810388|CAG|97|F4960</td>\n",
       "    </tr>\n",
       "    <tr>\n",
       "      <th>2</th>\n",
       "      <td>1B</td>\n",
       "      <td>MITE</td>\n",
       "      <td>TE</td>\n",
       "      <td>97376094</td>\n",
       "      <td>97376181</td>\n",
       "      <td>.</td>\n",
       "      <td>+</td>\n",
       "      <td>.</td>\n",
       "      <td>MITE_T_109136|chr6B|164810296|164810388|CAG|97|F4960</td>\n",
       "    </tr>\n",
       "  </tbody>\n",
       "</table>\n",
       "</div>"
      ],
      "text/plain": [
       "  seqname source feature     start       end score strand frame  \\\n",
       "0  1B      MITE   TE      5749364   5749453   .     +      .      \n",
       "1  1B      MITE   TE      61951691  61951779  .     +      .      \n",
       "2  1B      MITE   TE      97376094  97376181  .     +      .      \n",
       "\n",
       "                                              attribute  \n",
       "0  MITE_T_109136|chr6B|164810296|164810388|CAG|97|F4960  \n",
       "1  MITE_T_109136|chr6B|164810296|164810388|CAG|97|F4960  \n",
       "2  MITE_T_109136|chr6B|164810296|164810388|CAG|97|F4960  "
      ]
     },
     "execution_count": 217,
     "metadata": {},
     "output_type": "execute_result"
    }
   ],
   "source": [
    "df.head(3)"
   ]
  },
  {
   "cell_type": "code",
   "execution_count": 218,
   "metadata": {},
   "outputs": [
    {
     "name": "stdout",
     "output_type": "stream",
     "text": [
      "1A 0\n",
      "1B 4\n",
      "1D 5\n",
      "2A 2\n",
      "2B 11\n",
      "2D 4\n",
      "3A 1\n",
      "3B 7\n",
      "3D 2\n",
      "4A 4\n",
      "4B 7\n",
      "4D 6\n",
      "5A 2\n",
      "5B 11\n",
      "5D 3\n",
      "6A 0\n",
      "6B 12\n",
      "6D 3\n",
      "7A 6\n",
      "7B 9\n",
      "7D 1\n",
      "Un 4\n"
     ]
    }
   ],
   "source": [
    "fasta_seq = SeqIO.parse(path_genome, 'fasta')\n",
    "handle_out = open(path_out, \"w\")\n",
    "handle_out_flank = open(path_out_flank, \"w\")\n",
    "handle_out_only_flank = open(path_out_only_flank, \"w\")\n",
    "for record in fasta_seq:\n",
    "    buffer_mites = []\n",
    "    buffer_mites_flank = []\n",
    "    buffer_mites_only_flank = []\n",
    "    dff_extract = df[df.seqname == record.id]\n",
    "    count = 0\n",
    "    curr = 0\n",
    "    total = len(dff_extract.index)\n",
    "    print(record.id, len(dff_extract.index))\n",
    "    clean_seq = ''.join(str(record.seq).splitlines())\n",
    "    for k,v in dff_extract.iterrows():\n",
    "        start = min(v.start,v.end)\n",
    "        end = max(v.start,v.end)\n",
    "        new_seq = clean_seq[start:end]\n",
    "        id = v.attribute + \"_\"\n",
    "        att = record.id + \"_\" + str(start) + '_' + str(end)\n",
    "        seq = SeqRecord(Seq(new_seq), id=id, description=att)\n",
    "        buffer_mites.append(seq)\n",
    "        \n",
    "        #add flanking\n",
    "        start_f = max(start-flank_len,0)\n",
    "        end_f = end + flank_len\n",
    "        new_seq = clean_seq[start_f:end_f]\n",
    "        id = v.attribute + \"_\"\n",
    "        att = record.id + \"_flank_\" + str(start_f) + '_' + str(end_f)\n",
    "        seq = SeqRecord(Seq(new_seq), id=id, description=att)\n",
    "        buffer_mites_flank.append(seq)\n",
    "        \n",
    "        #only flanking 1\n",
    "        start_o_f_1 = max(start-flank_len,0)\n",
    "        end_o_f_1 = start\n",
    "        new_seq = clean_seq[start_o_f_1:end_o_f_1]\n",
    "        id = v.attribute + \"_\"\n",
    "        att = record.id + \"_flank_1_\" + str(start_o_f_1) + '_' + str(end_o_f_1)\n",
    "        seq = SeqRecord(Seq(new_seq), id=id, description=att)\n",
    "        buffer_mites_only_flank.append(seq)\n",
    "        \n",
    "        #only flanking 2\n",
    "        start_o_f_2 = end \n",
    "        end_o_f_2 = end+flank_len\n",
    "        new_seq = clean_seq[start_o_f_2:end_o_f_2]\n",
    "        id = v.attribute + \"_\"\n",
    "        att = record.id + \"_flank_2_\" + str(start_o_f_2) + '_' + str(end_o_f_2)\n",
    "        seq = SeqRecord(Seq(new_seq), id=id, description=att)\n",
    "        buffer_mites_only_flank.append(seq)\n",
    "        \n",
    "        count += 1\n",
    "    SeqIO.write(buffer_mites, handle_out, \"fasta\")\n",
    "    SeqIO.write(buffer_mites_flank, handle_out_flank, \"fasta\")\n",
    "    SeqIO.write(buffer_mites_only_flank, handle_out_only_flank, \"fasta\")\n",
    "handle_out.close()\n",
    "handle_out_only_flank.close()\n",
    "handle_out_flank.close()"
   ]
  },
  {
   "cell_type": "code",
   "execution_count": 219,
   "metadata": {},
   "outputs": [],
   "source": [
    "if os.path.isdir(c_dir):\n",
    "    shutil.rmtree(c_dir)\n",
    "pathlib.Path(c_dir).mkdir(parents=True, exist_ok=True)"
   ]
  },
  {
   "cell_type": "code",
   "execution_count": 220,
   "metadata": {},
   "outputs": [],
   "source": [
    "#clusterize flankings\n",
    "cmd_list = [\n",
    "'./bin/vsearch-2.11.1/bin/vsearch',\n",
    "'--cluster_fast', path_out_only_flank,\n",
    "'--threads',str(2),\n",
    "'--strand','both',\n",
    "'--clusters', c_dir + \"c_\",\n",
    "'--id', str(pid)]\n",
    "p = Popen(cmd_list, stdout=PIPE, stderr=PIPE)\n",
    "out,err = p.communicate()"
   ]
  },
  {
   "cell_type": "code",
   "execution_count": 221,
   "metadata": {},
   "outputs": [],
   "source": [
    "files = [f for f in os.listdir(c_dir) if os.path.isfile(os.path.join(c_dir, f))]"
   ]
  },
  {
   "cell_type": "code",
   "execution_count": 222,
   "metadata": {},
   "outputs": [
    {
     "data": {
      "text/plain": [
       "94.71153846153847"
      ]
     },
     "execution_count": 222,
     "metadata": {},
     "output_type": "execute_result"
    }
   ],
   "source": [
    "(len(files) / 2) * 100 / ele_len"
   ]
  },
  {
   "cell_type": "code",
   "execution_count": null,
   "metadata": {},
   "outputs": [],
   "source": []
  },
  {
   "cell_type": "code",
   "execution_count": null,
   "metadata": {},
   "outputs": [],
   "source": []
  }
 ],
 "metadata": {
  "kernelspec": {
   "display_name": "Python 3",
   "language": "python",
   "name": "python3"
  },
  "language_info": {
   "codemirror_mode": {
    "name": "ipython",
    "version": 3
   },
   "file_extension": ".py",
   "mimetype": "text/x-python",
   "name": "python",
   "nbconvert_exporter": "python",
   "pygments_lexer": "ipython3",
   "version": "3.6.5"
  }
 },
 "nbformat": 4,
 "nbformat_minor": 2
}
