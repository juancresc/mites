{
 "cells": [
  {
   "cell_type": "code",
   "execution_count": 133,
   "metadata": {},
   "outputs": [],
   "source": [
    "import pandas as pd\n",
    "from Bio import SeqIO\n",
    "from Bio.SeqRecord import SeqRecord\n",
    "from Bio.Seq import Seq"
   ]
  },
  {
   "cell_type": "code",
   "execution_count": 134,
   "metadata": {},
   "outputs": [],
   "source": [
    "file_blast = \"/home/juan/Desktop/juan/bio/mites/data/blast/families_tgac.csv\"\n",
    "file_blast_out = \"/home/juan/Desktop/juan/bio/mites/data/blast/families_tgac.filtered.80.csv\""
   ]
  },
  {
   "cell_type": "code",
   "execution_count": 135,
   "metadata": {},
   "outputs": [
    {
     "name": "stdout",
     "output_type": "stream",
     "text": [
      "1599699\n"
     ]
    }
   ],
   "source": [
    "df = pd.read_csv(file_blast, index_col=False, sep='\\t', comment='#', header=None)\n",
    "df.columns = ['qseqid','sseqid','pident','length','mismatch','gapopen','qstart','qend','sstart','send','evalue','bitscore']\n",
    "print(len(df.index))"
   ]
  },
  {
   "cell_type": "code",
   "execution_count": 136,
   "metadata": {},
   "outputs": [
    {
     "name": "stdout",
     "output_type": "stream",
     "text": [
      "1482719\n"
     ]
    }
   ],
   "source": [
    "df = df[df.pident > 80]\n",
    "print(len(df.index))"
   ]
  },
  {
   "cell_type": "code",
   "execution_count": 137,
   "metadata": {},
   "outputs": [],
   "source": [
    "#order sstart and send\n",
    "df['new_sstart'] = df[['sstart','send']].min(axis=1)\n",
    "df['new_ssend'] = df[['sstart','send']].max(axis=1)\n",
    "df['sstart'] = df['new_sstart']\n",
    "df['send'] = df['new_ssend']\n",
    "df = df.drop('new_sstart',axis=1).drop('new_ssend',axis=1)\n"
   ]
  },
  {
   "cell_type": "code",
   "execution_count": null,
   "metadata": {},
   "outputs": [],
   "source": [
    "# filter overlapped \n",
    "my_index = 0\n",
    "indexes = []\n",
    "discard = []\n",
    "count = 0\n",
    "curr = 0\n",
    "total_len = len(df.index)\n",
    "padding = 10\n",
    "while my_index < total_len:\n",
    "    row = df.iloc[[my_index]]\n",
    "    cond = True\n",
    "    next_index = 1\n",
    "    while cond and (my_index + next_index) <= total_len - 1:\n",
    "        second_row = df.iloc[[my_index + next_index]]\n",
    "        c1 = (row.iloc[0].sseqid == second_row.iloc[0].sseqid)\n",
    "        c2 = (abs(second_row.iloc[0].sstart - row.iloc[0].sstart) <= padding)\n",
    "        c3 = (abs(second_row.iloc[0].send - row.iloc[0].send) <= padding)\n",
    "        cond =  c1 and c2 and c3\n",
    "        if not cond:\n",
    "#            indexes.append(my_index)\n",
    "            break\n",
    "        next_index += 1\n",
    "    indexes.append(my_index)\n",
    "    my_index += next_index\n",
    "    #just a counter\n",
    "    curr_new = int(my_index * 100 * 1.0 / (total_len * 1.0))\n",
    "    if curr_new != curr:\n",
    "        curr = curr_new\n",
    "        if curr_new % 5 == 0:\n",
    "            print(curr_new)\n",
    "#indexes.append(total_len - 1)"
   ]
  },
  {
   "cell_type": "code",
   "execution_count": null,
   "metadata": {},
   "outputs": [],
   "source": [
    "df = df[df.index.isin(indexes)]\n",
    "df.sort_values(['sseqid', 'sstart'], inplace=True)\n",
    "non_overlapped = str(len(df.index))\n",
    "print('Non overlapped: ' + non_overlapped)"
   ]
  },
  {
   "cell_type": "code",
   "execution_count": null,
   "metadata": {},
   "outputs": [],
   "source": [
    "df.to_csv(file_blast_out, index=None, sep='\\t')\n",
    "file_blast_out"
   ]
  },
  {
   "cell_type": "code",
   "execution_count": null,
   "metadata": {},
   "outputs": [],
   "source": []
  },
  {
   "cell_type": "code",
   "execution_count": null,
   "metadata": {},
   "outputs": [],
   "source": []
  },
  {
   "cell_type": "code",
   "execution_count": null,
   "metadata": {},
   "outputs": [],
   "source": []
  }
 ],
 "metadata": {
  "kernelspec": {
   "display_name": "Python 3",
   "language": "python",
   "name": "python3"
  },
  "language_info": {
   "codemirror_mode": {
    "name": "ipython",
    "version": 3
   },
   "file_extension": ".py",
   "mimetype": "text/x-python",
   "name": "python",
   "nbconvert_exporter": "python",
   "pygments_lexer": "ipython3",
   "version": "3.6.5"
  }
 },
 "nbformat": 4,
 "nbformat_minor": 2
}
