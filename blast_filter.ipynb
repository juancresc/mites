{
 "cells": [
  {
   "cell_type": "code",
   "execution_count": 19,
   "metadata": {},
   "outputs": [],
   "source": [
    "import pandas as pd\n",
    "from Bio import SeqIO\n",
    "from Bio.SeqRecord import SeqRecord\n",
    "from Bio.Seq import Seq"
   ]
  },
  {
   "cell_type": "code",
   "execution_count": 20,
   "metadata": {},
   "outputs": [],
   "source": [
    "file_blast = \"/home/juan/Desktop/juan/bio/mites/data/blast/families_tgac.csv\"\n",
    "file_blast_out = \"/home/juan/Desktop/juan/bio/mites/data/blast/families_tgac.filtered.80.csv\""
   ]
  },
  {
   "cell_type": "code",
   "execution_count": 21,
   "metadata": {},
   "outputs": [
    {
     "name": "stdout",
     "output_type": "stream",
     "text": [
      "1599699\n"
     ]
    }
   ],
   "source": [
    "df = pd.read_csv(file_blast, index_col=False, sep='\\t', comment='#', header=None)\n",
    "df.columns = ['qseqid','sseqid','pident','length','mismatch','gapopen','qstart','qend','sstart','send','evalue','bitscore']\n",
    "print(len(df.index))"
   ]
  },
  {
   "cell_type": "code",
   "execution_count": 22,
   "metadata": {},
   "outputs": [
    {
     "data": {
      "text/html": [
       "<div>\n",
       "<style scoped>\n",
       "    .dataframe tbody tr th:only-of-type {\n",
       "        vertical-align: middle;\n",
       "    }\n",
       "\n",
       "    .dataframe tbody tr th {\n",
       "        vertical-align: top;\n",
       "    }\n",
       "\n",
       "    .dataframe thead th {\n",
       "        text-align: right;\n",
       "    }\n",
       "</style>\n",
       "<table border=\"1\" class=\"dataframe\">\n",
       "  <thead>\n",
       "    <tr style=\"text-align: right;\">\n",
       "      <th></th>\n",
       "      <th>qseqid</th>\n",
       "      <th>sseqid</th>\n",
       "      <th>pident</th>\n",
       "      <th>length</th>\n",
       "      <th>mismatch</th>\n",
       "      <th>gapopen</th>\n",
       "      <th>qstart</th>\n",
       "      <th>qend</th>\n",
       "      <th>sstart</th>\n",
       "      <th>send</th>\n",
       "      <th>evalue</th>\n",
       "      <th>bitscore</th>\n",
       "    </tr>\n",
       "  </thead>\n",
       "  <tbody>\n",
       "    <tr>\n",
       "      <th>0</th>\n",
       "      <td>MITE_T_1|chr2B|413009710|413010196|AT|24|F1</td>\n",
       "      <td>TRIAE_CS42_4DL_TGACv1_343390_AA1133870</td>\n",
       "      <td>94.008</td>\n",
       "      <td>484</td>\n",
       "      <td>27</td>\n",
       "      <td>2</td>\n",
       "      <td>3</td>\n",
       "      <td>485</td>\n",
       "      <td>6683</td>\n",
       "      <td>6201</td>\n",
       "      <td>0.000000e+00</td>\n",
       "      <td>732.0</td>\n",
       "    </tr>\n",
       "    <tr>\n",
       "      <th>1</th>\n",
       "      <td>MITE_T_1|chr2B|413009710|413010196|AT|24|F1</td>\n",
       "      <td>TRIAE_CS42_7AL_TGACv1_557948_AA1788260</td>\n",
       "      <td>84.886</td>\n",
       "      <td>483</td>\n",
       "      <td>26</td>\n",
       "      <td>13</td>\n",
       "      <td>2</td>\n",
       "      <td>484</td>\n",
       "      <td>7344</td>\n",
       "      <td>7779</td>\n",
       "      <td>5.080000e-123</td>\n",
       "      <td>444.0</td>\n",
       "    </tr>\n",
       "    <tr>\n",
       "      <th>2</th>\n",
       "      <td>MITE_T_1|chr2B|413009710|413010196|AT|24|F1</td>\n",
       "      <td>TRIAE_CS42_2DS_TGACv1_179024_AA0603660</td>\n",
       "      <td>81.443</td>\n",
       "      <td>388</td>\n",
       "      <td>71</td>\n",
       "      <td>1</td>\n",
       "      <td>99</td>\n",
       "      <td>485</td>\n",
       "      <td>1</td>\n",
       "      <td>388</td>\n",
       "      <td>1.160000e-84</td>\n",
       "      <td>316.0</td>\n",
       "    </tr>\n",
       "    <tr>\n",
       "      <th>3</th>\n",
       "      <td>MITE_T_10|chr3D|462806129|462806614|GC|16|F2</td>\n",
       "      <td>TRIAE_CS42_7AS_TGACv1_572132_AA1851480</td>\n",
       "      <td>89.044</td>\n",
       "      <td>429</td>\n",
       "      <td>47</td>\n",
       "      <td>0</td>\n",
       "      <td>20</td>\n",
       "      <td>448</td>\n",
       "      <td>2049</td>\n",
       "      <td>2477</td>\n",
       "      <td>1.050000e-149</td>\n",
       "      <td>532.0</td>\n",
       "    </tr>\n",
       "    <tr>\n",
       "      <th>4</th>\n",
       "      <td>MITE_T_10|chr3D|462806129|462806614|GC|16|F2</td>\n",
       "      <td>TRIAE_CS42_7AS_TGACv1_572132_AA1851480</td>\n",
       "      <td>81.693</td>\n",
       "      <td>437</td>\n",
       "      <td>64</td>\n",
       "      <td>14</td>\n",
       "      <td>20</td>\n",
       "      <td>448</td>\n",
       "      <td>2477</td>\n",
       "      <td>2049</td>\n",
       "      <td>1.140000e-94</td>\n",
       "      <td>350.0</td>\n",
       "    </tr>\n",
       "  </tbody>\n",
       "</table>\n",
       "</div>"
      ],
      "text/plain": [
       "                                         qseqid  \\\n",
       "0   MITE_T_1|chr2B|413009710|413010196|AT|24|F1   \n",
       "1   MITE_T_1|chr2B|413009710|413010196|AT|24|F1   \n",
       "2   MITE_T_1|chr2B|413009710|413010196|AT|24|F1   \n",
       "3  MITE_T_10|chr3D|462806129|462806614|GC|16|F2   \n",
       "4  MITE_T_10|chr3D|462806129|462806614|GC|16|F2   \n",
       "\n",
       "                                   sseqid  pident  length  mismatch  gapopen  \\\n",
       "0  TRIAE_CS42_4DL_TGACv1_343390_AA1133870  94.008     484        27        2   \n",
       "1  TRIAE_CS42_7AL_TGACv1_557948_AA1788260  84.886     483        26       13   \n",
       "2  TRIAE_CS42_2DS_TGACv1_179024_AA0603660  81.443     388        71        1   \n",
       "3  TRIAE_CS42_7AS_TGACv1_572132_AA1851480  89.044     429        47        0   \n",
       "4  TRIAE_CS42_7AS_TGACv1_572132_AA1851480  81.693     437        64       14   \n",
       "\n",
       "   qstart  qend  sstart  send         evalue  bitscore  \n",
       "0       3   485    6683  6201   0.000000e+00     732.0  \n",
       "1       2   484    7344  7779  5.080000e-123     444.0  \n",
       "2      99   485       1   388   1.160000e-84     316.0  \n",
       "3      20   448    2049  2477  1.050000e-149     532.0  \n",
       "4      20   448    2477  2049   1.140000e-94     350.0  "
      ]
     },
     "execution_count": 22,
     "metadata": {},
     "output_type": "execute_result"
    }
   ],
   "source": [
    "df.head()"
   ]
  },
  {
   "cell_type": "code",
   "execution_count": 23,
   "metadata": {},
   "outputs": [
    {
     "name": "stdout",
     "output_type": "stream",
     "text": [
      "1482719\n"
     ]
    }
   ],
   "source": [
    "df = df[df.pident > 80]\n",
    "print(len(df.index))"
   ]
  },
  {
   "cell_type": "code",
   "execution_count": 24,
   "metadata": {},
   "outputs": [],
   "source": [
    "df.to_csv(file_blast_out, sep=\"\\t\", header=None, index=None)"
   ]
  },
  {
   "cell_type": "code",
   "execution_count": null,
   "metadata": {},
   "outputs": [],
   "source": []
  }
 ],
 "metadata": {
  "kernelspec": {
   "display_name": "Python 3",
   "language": "python",
   "name": "python3"
  },
  "language_info": {
   "codemirror_mode": {
    "name": "ipython",
    "version": 3
   },
   "file_extension": ".py",
   "mimetype": "text/x-python",
   "name": "python",
   "nbconvert_exporter": "python",
   "pygments_lexer": "ipython3",
   "version": "3.6.5"
  }
 },
 "nbformat": 4,
 "nbformat_minor": 2
}
