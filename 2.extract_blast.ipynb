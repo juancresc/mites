{
 "cells": [
  {
   "cell_type": "code",
   "execution_count": 1,
   "metadata": {},
   "outputs": [],
   "source": [
    "import pandas as pd\n",
    "from Bio import SeqIO\n",
    "from Bio.SeqRecord import SeqRecord\n",
    "from Bio.Seq import Seq"
   ]
  },
  {
   "cell_type": "code",
   "execution_count": 2,
   "metadata": {},
   "outputs": [],
   "source": [
    "#RICE\n",
    "path_genome = '/home/juan/Desktop/juan/bio/data/genomes/rice/IRGSP-1.0_genome.fasta'\n",
    "path_gff = 'data/rice/allmites.fasta.filtered.csv.gff'\n",
    "path_out_dir = 'data/rice/by_family/'"
   ]
  },
  {
   "cell_type": "code",
   "execution_count": null,
   "metadata": {},
   "outputs": [],
   "source": [
    "path_genome = '/home/juan/Desktop/juan/bio/data/IWGSC/42/Triticum_aestivum.IWGSC.dna.toplevel.fa'\n",
    "path_gff = 'data/wheat/allmites.fasta.filtered.csv.gff'\n",
    "path_out_dir = 'data/wheat/by_family/'"
   ]
  },
  {
   "cell_type": "code",
   "execution_count": 3,
   "metadata": {},
   "outputs": [],
   "source": [
    "df = pd.read_csv(path_gff, sep='\\t')"
   ]
  },
  {
   "cell_type": "code",
   "execution_count": 4,
   "metadata": {},
   "outputs": [
    {
     "name": "stdout",
     "output_type": "stream",
     "text": [
      "588179\n"
     ]
    },
    {
     "data": {
      "text/html": [
       "<div>\n",
       "<style scoped>\n",
       "    .dataframe tbody tr th:only-of-type {\n",
       "        vertical-align: middle;\n",
       "    }\n",
       "\n",
       "    .dataframe tbody tr th {\n",
       "        vertical-align: top;\n",
       "    }\n",
       "\n",
       "    .dataframe thead th {\n",
       "        text-align: right;\n",
       "    }\n",
       "</style>\n",
       "<table border=\"1\" class=\"dataframe\">\n",
       "  <thead>\n",
       "    <tr style=\"text-align: right;\">\n",
       "      <th></th>\n",
       "      <th>seqname</th>\n",
       "      <th>source</th>\n",
       "      <th>feature</th>\n",
       "      <th>start</th>\n",
       "      <th>end</th>\n",
       "      <th>score</th>\n",
       "      <th>strand</th>\n",
       "      <th>frame</th>\n",
       "      <th>attribute</th>\n",
       "    </tr>\n",
       "  </thead>\n",
       "  <tbody>\n",
       "    <tr>\n",
       "      <th>0</th>\n",
       "      <td>chr09</td>\n",
       "      <td>MITE_Tracker</td>\n",
       "      <td>TE</td>\n",
       "      <td>13335108</td>\n",
       "      <td>13334681</td>\n",
       "      <td>.</td>\n",
       "      <td>+</td>\n",
       "      <td>.</td>\n",
       "      <td>MITE_T_1|chr09|9556469|9556924|TGCA|473|F1</td>\n",
       "    </tr>\n",
       "    <tr>\n",
       "      <th>1</th>\n",
       "      <td>chr09</td>\n",
       "      <td>MITE_Tracker</td>\n",
       "      <td>TE</td>\n",
       "      <td>7036771</td>\n",
       "      <td>7036335</td>\n",
       "      <td>.</td>\n",
       "      <td>+</td>\n",
       "      <td>.</td>\n",
       "      <td>MITE_T_1|chr09|9556469|9556924|TGCA|473|F1</td>\n",
       "    </tr>\n",
       "  </tbody>\n",
       "</table>\n",
       "</div>"
      ],
      "text/plain": [
       "  seqname        source feature     start       end score strand frame  \\\n",
       "0   chr09  MITE_Tracker      TE  13335108  13334681     .      +     .   \n",
       "1   chr09  MITE_Tracker      TE   7036771   7036335     .      +     .   \n",
       "\n",
       "                                    attribute  \n",
       "0  MITE_T_1|chr09|9556469|9556924|TGCA|473|F1  \n",
       "1  MITE_T_1|chr09|9556469|9556924|TGCA|473|F1  "
      ]
     },
     "execution_count": 4,
     "metadata": {},
     "output_type": "execute_result"
    }
   ],
   "source": [
    "df.columns = ['seqname', 'source', 'feature', 'start', 'end', 'score', 'strand', 'frame', 'attribute']\n",
    "print(len(df.index))\n",
    "df.head(2)"
   ]
  },
  {
   "cell_type": "code",
   "execution_count": 5,
   "metadata": {},
   "outputs": [],
   "source": [
    "fasta_seq = SeqIO.parse(path_genome, 'fasta')\n",
    "buffer_mites = {}"
   ]
  },
  {
   "cell_type": "code",
   "execution_count": null,
   "metadata": {},
   "outputs": [],
   "source": [
    "for record in fasta_seq:\n",
    "    dff_extract = df[df.seqname == record.id]\n",
    "    count = 0\n",
    "    curr = 0\n",
    "    total = len(dff_extract.index)\n",
    "    print(record.id, len(dff_extract.index))\n",
    "    clean_seq = ''.join(str(record.seq).splitlines())\n",
    "    for k,v in dff_extract.iterrows():\n",
    "        start = min(v.start,v.end)\n",
    "        end = max(v.start,v.end)\n",
    "        new_seq = clean_seq[start:end]\n",
    "        att = v.attribute\n",
    "        id = att + \"_\" + record.id + \"_\" + str(start) + '_' + str(end)\n",
    "        seq = SeqRecord(Seq(new_seq), id=id, description=\"_\")\n",
    "        if not att in buffer_mites:\n",
    "            buffer_mites[att] = []\n",
    "        buffer_mites[att].append(seq)\n",
    "        count += 1\n",
    "        curr_new = int(count * 100 * 1.0 / (total * 1.0))\n",
    "        if curr_new != curr:\n",
    "            curr = curr_new\n",
    "            if curr_new % 1 == 0:\n",
    "                print(curr_new)"
   ]
  },
  {
   "cell_type": "code",
   "execution_count": 7,
   "metadata": {},
   "outputs": [],
   "source": [
    "for k,v in buffer_mites.items():\n",
    "    SeqIO.write(v, path_out_dir + k + \".fasta\", \"fasta\")"
   ]
  },
  {
   "cell_type": "code",
   "execution_count": null,
   "metadata": {},
   "outputs": [],
   "source": []
  }
 ],
 "metadata": {
  "kernelspec": {
   "display_name": "Python 3",
   "language": "python",
   "name": "python3"
  },
  "language_info": {
   "codemirror_mode": {
    "name": "ipython",
    "version": 3
   },
   "file_extension": ".py",
   "mimetype": "text/x-python",
   "name": "python",
   "nbconvert_exporter": "python",
   "pygments_lexer": "ipython3",
   "version": "3.6.5"
  }
 },
 "nbformat": 4,
 "nbformat_minor": 2
}
