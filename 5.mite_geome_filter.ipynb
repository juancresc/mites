{
 "cells": [
  {
   "cell_type": "code",
   "execution_count": 40,
   "metadata": {},
   "outputs": [],
   "source": [
    "import pandas as pd\n"
   ]
  },
  {
   "cell_type": "code",
   "execution_count": 25,
   "metadata": {},
   "outputs": [],
   "source": [
    "path_blast = 'data/rice/96.csv'\n",
    "path_blast_filtered = 'data/rice/96.filtered.csv'\n"
   ]
  },
  {
   "cell_type": "code",
   "execution_count": null,
   "metadata": {},
   "outputs": [],
   "source": [
    "path_blast = 'data/wheat/109136.csv'\n",
    "path_blast_filtered = 'data/wheat/109136.filtered.csv'\n"
   ]
  },
  {
   "cell_type": "code",
   "execution_count": 41,
   "metadata": {},
   "outputs": [],
   "source": [
    "\n",
    "path_blast = 'data/wheat/117188.csv'\n",
    "path_blast_filtered = 'data/wheat/117188.filtered.csv'\n"
   ]
  },
  {
   "cell_type": "code",
   "execution_count": 43,
   "metadata": {},
   "outputs": [],
   "source": [
    "#TEs\n",
    "params = {'min_len':50,'max_len':False,'min_distance':5,'max_q':1.3,'min_q':0.9,'min_pident':96,'min_qcov':94}\n"
   ]
  },
  {
   "cell_type": "code",
   "execution_count": null,
   "metadata": {},
   "outputs": [],
   "source": []
  },
  {
   "cell_type": "code",
   "execution_count": 27,
   "metadata": {},
   "outputs": [
    {
     "name": "stdout",
     "output_type": "stream",
     "text": [
      "initial: 98\n"
     ]
    }
   ],
   "source": [
    "#read blast output\n",
    "df = pd.read_csv(path_blast, sep='\\t', header=None)\n",
    "df.columns = ['qseqid','sseqid','qstart','qend','sstart','send','mismatch','gaps','pident','evalue','length','qlen','slen','qcovs']\n",
    "print('initial:',len(df.index))\n",
    "initial = len(df.index)"
   ]
  },
  {
   "cell_type": "code",
   "execution_count": 28,
   "metadata": {},
   "outputs": [
    {
     "name": "stdout",
     "output_type": "stream",
     "text": [
      "Min len: 98\n"
     ]
    }
   ],
   "source": [
    "#filter by length\n",
    "if(params['min_len']):\n",
    "    df = df[df.qlen > params['min_len']]\n",
    "print('Min len: ' + str(len(df.index)))\n",
    "min_length = str(len(df.index))"
   ]
  },
  {
   "cell_type": "code",
   "execution_count": 29,
   "metadata": {},
   "outputs": [
    {
     "name": "stdout",
     "output_type": "stream",
     "text": [
      "Max len: 98\n"
     ]
    }
   ],
   "source": [
    "if(params['max_len']):\n",
    "    df = df[df.qlen < params['max_len']]\n",
    "print('Max len: ' + str(len(df.index)))    \n",
    "max_length = str(len(df.index))"
   ]
  },
  {
   "cell_type": "code",
   "execution_count": 30,
   "metadata": {},
   "outputs": [
    {
     "name": "stdout",
     "output_type": "stream",
     "text": [
      "min treshold: 51\n"
     ]
    }
   ],
   "source": [
    "#filter by query / subject length treshold\n",
    "df = df[((df.length / df.qlen) >= params['min_q'])]\n",
    "print('min treshold:',len(df.index))\n",
    "min_treshold = str(len(df.index))"
   ]
  },
  {
   "cell_type": "code",
   "execution_count": 31,
   "metadata": {},
   "outputs": [
    {
     "name": "stdout",
     "output_type": "stream",
     "text": [
      "max treshold: 51\n"
     ]
    }
   ],
   "source": [
    "df = df[((df.length / df.qlen) <= params['max_q'])]\n",
    "print('max treshold:',len(df.index))\n",
    "max_treshold = str(len(df.index))"
   ]
  },
  {
   "cell_type": "code",
   "execution_count": 32,
   "metadata": {},
   "outputs": [
    {
     "name": "stdout",
     "output_type": "stream",
     "text": [
      "Min_pident: 51\n"
     ]
    }
   ],
   "source": [
    "#filter by pident\n",
    "df = df[(df.pident >= params['min_pident'])]\n",
    "print('Min_pident: ' + str(len(df.index)))\n",
    "min_pident = str(len(df.index))"
   ]
  },
  {
   "cell_type": "code",
   "execution_count": 33,
   "metadata": {},
   "outputs": [
    {
     "name": "stdout",
     "output_type": "stream",
     "text": [
      "Min qcov: 51\n"
     ]
    }
   ],
   "source": [
    "#filter by qcov\n",
    "df = df[(df.qcovs >= params['min_qcov'])]\n",
    "print('Min qcov: ' + str(len(df.index)))\n",
    "min_qcov = str(len(df.index))"
   ]
  },
  {
   "cell_type": "code",
   "execution_count": 34,
   "metadata": {},
   "outputs": [],
   "source": [
    "#order sstart and send\n",
    "df['new_sstart'] = df[['sstart','send']].min(axis=1)\n",
    "df['new_ssend'] = df[['sstart','send']].max(axis=1)\n",
    "df['sstart'] = df['new_sstart']\n",
    "df['send'] = df['new_ssend']\n",
    "df = df.drop('new_sstart',axis=1).drop('new_ssend',axis=1)\n",
    "df = df.sort_values(by=['sseqid','sstart', 'send'])\n",
    "df = df.reset_index(drop=True)\n",
    "# sep by chr\n",
    "dfs = {}\n",
    "for seq in df.sseqid.unique():\n",
    "    dfs[seq] = df[df.sseqid == seq]"
   ]
  },
  {
   "cell_type": "code",
   "execution_count": 35,
   "metadata": {},
   "outputs": [
    {
     "data": {
      "text/html": [
       "<div>\n",
       "<style scoped>\n",
       "    .dataframe tbody tr th:only-of-type {\n",
       "        vertical-align: middle;\n",
       "    }\n",
       "\n",
       "    .dataframe tbody tr th {\n",
       "        vertical-align: top;\n",
       "    }\n",
       "\n",
       "    .dataframe thead th {\n",
       "        text-align: right;\n",
       "    }\n",
       "</style>\n",
       "<table border=\"1\" class=\"dataframe\">\n",
       "  <thead>\n",
       "    <tr style=\"text-align: right;\">\n",
       "      <th></th>\n",
       "      <th>qseqid</th>\n",
       "      <th>sseqid</th>\n",
       "      <th>qstart</th>\n",
       "      <th>qend</th>\n",
       "      <th>sstart</th>\n",
       "      <th>send</th>\n",
       "      <th>mismatch</th>\n",
       "      <th>gaps</th>\n",
       "      <th>pident</th>\n",
       "      <th>evalue</th>\n",
       "      <th>length</th>\n",
       "      <th>qlen</th>\n",
       "      <th>slen</th>\n",
       "      <th>qcovs</th>\n",
       "    </tr>\n",
       "  </thead>\n",
       "  <tbody>\n",
       "    <tr>\n",
       "      <th>0</th>\n",
       "      <td>MITE_T_96|chr06|18136415|18136858|TA|25|F7_chr...</td>\n",
       "      <td>chr01</td>\n",
       "      <td>3</td>\n",
       "      <td>438</td>\n",
       "      <td>17513831</td>\n",
       "      <td>17514266</td>\n",
       "      <td>0</td>\n",
       "      <td>0</td>\n",
       "      <td>100.000</td>\n",
       "      <td>0.0</td>\n",
       "      <td>436</td>\n",
       "      <td>442</td>\n",
       "      <td>43270923</td>\n",
       "      <td>99</td>\n",
       "    </tr>\n",
       "    <tr>\n",
       "      <th>1</th>\n",
       "      <td>MITE_T_96|chr06|18136415|18136858|TA|25|F7_chr...</td>\n",
       "      <td>chr01</td>\n",
       "      <td>3</td>\n",
       "      <td>440</td>\n",
       "      <td>23332544</td>\n",
       "      <td>23332981</td>\n",
       "      <td>0</td>\n",
       "      <td>0</td>\n",
       "      <td>100.000</td>\n",
       "      <td>0.0</td>\n",
       "      <td>438</td>\n",
       "      <td>442</td>\n",
       "      <td>43270923</td>\n",
       "      <td>99</td>\n",
       "    </tr>\n",
       "    <tr>\n",
       "      <th>2</th>\n",
       "      <td>MITE_T_96|chr06|18136415|18136858|TA|25|F7_chr...</td>\n",
       "      <td>chr01</td>\n",
       "      <td>5</td>\n",
       "      <td>436</td>\n",
       "      <td>24779770</td>\n",
       "      <td>24780201</td>\n",
       "      <td>0</td>\n",
       "      <td>0</td>\n",
       "      <td>100.000</td>\n",
       "      <td>0.0</td>\n",
       "      <td>432</td>\n",
       "      <td>442</td>\n",
       "      <td>43270923</td>\n",
       "      <td>99</td>\n",
       "    </tr>\n",
       "    <tr>\n",
       "      <th>3</th>\n",
       "      <td>MITE_T_96|chr06|18136415|18136858|TA|25|F7_chr...</td>\n",
       "      <td>chr01</td>\n",
       "      <td>5</td>\n",
       "      <td>436</td>\n",
       "      <td>25261111</td>\n",
       "      <td>25261542</td>\n",
       "      <td>0</td>\n",
       "      <td>0</td>\n",
       "      <td>100.000</td>\n",
       "      <td>0.0</td>\n",
       "      <td>432</td>\n",
       "      <td>442</td>\n",
       "      <td>43270923</td>\n",
       "      <td>99</td>\n",
       "    </tr>\n",
       "    <tr>\n",
       "      <th>4</th>\n",
       "      <td>MITE_T_96|chr06|18136415|18136858|TA|25|F7_chr...</td>\n",
       "      <td>chr01</td>\n",
       "      <td>3</td>\n",
       "      <td>438</td>\n",
       "      <td>29931514</td>\n",
       "      <td>29931949</td>\n",
       "      <td>0</td>\n",
       "      <td>0</td>\n",
       "      <td>100.000</td>\n",
       "      <td>0.0</td>\n",
       "      <td>436</td>\n",
       "      <td>442</td>\n",
       "      <td>43270923</td>\n",
       "      <td>99</td>\n",
       "    </tr>\n",
       "    <tr>\n",
       "      <th>5</th>\n",
       "      <td>MITE_T_96|chr06|18136415|18136858|TA|25|F7_chr...</td>\n",
       "      <td>chr02</td>\n",
       "      <td>3</td>\n",
       "      <td>438</td>\n",
       "      <td>214434</td>\n",
       "      <td>214869</td>\n",
       "      <td>0</td>\n",
       "      <td>0</td>\n",
       "      <td>100.000</td>\n",
       "      <td>0.0</td>\n",
       "      <td>436</td>\n",
       "      <td>442</td>\n",
       "      <td>35937250</td>\n",
       "      <td>99</td>\n",
       "    </tr>\n",
       "    <tr>\n",
       "      <th>6</th>\n",
       "      <td>MITE_T_96|chr06|18136415|18136858|TA|25|F7_chr...</td>\n",
       "      <td>chr02</td>\n",
       "      <td>5</td>\n",
       "      <td>439</td>\n",
       "      <td>617948</td>\n",
       "      <td>618382</td>\n",
       "      <td>1</td>\n",
       "      <td>0</td>\n",
       "      <td>99.770</td>\n",
       "      <td>0.0</td>\n",
       "      <td>435</td>\n",
       "      <td>442</td>\n",
       "      <td>35937250</td>\n",
       "      <td>99</td>\n",
       "    </tr>\n",
       "    <tr>\n",
       "      <th>7</th>\n",
       "      <td>MITE_T_96|chr06|18136415|18136858|TA|25|F7_chr...</td>\n",
       "      <td>chr02</td>\n",
       "      <td>3</td>\n",
       "      <td>438</td>\n",
       "      <td>13161935</td>\n",
       "      <td>13162370</td>\n",
       "      <td>0</td>\n",
       "      <td>0</td>\n",
       "      <td>100.000</td>\n",
       "      <td>0.0</td>\n",
       "      <td>436</td>\n",
       "      <td>442</td>\n",
       "      <td>35937250</td>\n",
       "      <td>99</td>\n",
       "    </tr>\n",
       "    <tr>\n",
       "      <th>8</th>\n",
       "      <td>MITE_T_96|chr06|18136415|18136858|TA|25|F7_chr...</td>\n",
       "      <td>chr02</td>\n",
       "      <td>3</td>\n",
       "      <td>438</td>\n",
       "      <td>18534784</td>\n",
       "      <td>18535219</td>\n",
       "      <td>1</td>\n",
       "      <td>0</td>\n",
       "      <td>99.771</td>\n",
       "      <td>0.0</td>\n",
       "      <td>436</td>\n",
       "      <td>442</td>\n",
       "      <td>35937250</td>\n",
       "      <td>99</td>\n",
       "    </tr>\n",
       "    <tr>\n",
       "      <th>9</th>\n",
       "      <td>MITE_T_96|chr06|18136415|18136858|TA|25|F7_chr...</td>\n",
       "      <td>chr02</td>\n",
       "      <td>5</td>\n",
       "      <td>436</td>\n",
       "      <td>22549114</td>\n",
       "      <td>22549545</td>\n",
       "      <td>0</td>\n",
       "      <td>0</td>\n",
       "      <td>100.000</td>\n",
       "      <td>0.0</td>\n",
       "      <td>432</td>\n",
       "      <td>442</td>\n",
       "      <td>35937250</td>\n",
       "      <td>99</td>\n",
       "    </tr>\n",
       "  </tbody>\n",
       "</table>\n",
       "</div>"
      ],
      "text/plain": [
       "                                              qseqid sseqid  qstart  qend  \\\n",
       "0  MITE_T_96|chr06|18136415|18136858|TA|25|F7_chr...  chr01       3   438   \n",
       "1  MITE_T_96|chr06|18136415|18136858|TA|25|F7_chr...  chr01       3   440   \n",
       "2  MITE_T_96|chr06|18136415|18136858|TA|25|F7_chr...  chr01       5   436   \n",
       "3  MITE_T_96|chr06|18136415|18136858|TA|25|F7_chr...  chr01       5   436   \n",
       "4  MITE_T_96|chr06|18136415|18136858|TA|25|F7_chr...  chr01       3   438   \n",
       "5  MITE_T_96|chr06|18136415|18136858|TA|25|F7_chr...  chr02       3   438   \n",
       "6  MITE_T_96|chr06|18136415|18136858|TA|25|F7_chr...  chr02       5   439   \n",
       "7  MITE_T_96|chr06|18136415|18136858|TA|25|F7_chr...  chr02       3   438   \n",
       "8  MITE_T_96|chr06|18136415|18136858|TA|25|F7_chr...  chr02       3   438   \n",
       "9  MITE_T_96|chr06|18136415|18136858|TA|25|F7_chr...  chr02       5   436   \n",
       "\n",
       "     sstart      send  mismatch  gaps   pident  evalue  length  qlen  \\\n",
       "0  17513831  17514266         0     0  100.000     0.0     436   442   \n",
       "1  23332544  23332981         0     0  100.000     0.0     438   442   \n",
       "2  24779770  24780201         0     0  100.000     0.0     432   442   \n",
       "3  25261111  25261542         0     0  100.000     0.0     432   442   \n",
       "4  29931514  29931949         0     0  100.000     0.0     436   442   \n",
       "5    214434    214869         0     0  100.000     0.0     436   442   \n",
       "6    617948    618382         1     0   99.770     0.0     435   442   \n",
       "7  13161935  13162370         0     0  100.000     0.0     436   442   \n",
       "8  18534784  18535219         1     0   99.771     0.0     436   442   \n",
       "9  22549114  22549545         0     0  100.000     0.0     432   442   \n",
       "\n",
       "       slen  qcovs  \n",
       "0  43270923     99  \n",
       "1  43270923     99  \n",
       "2  43270923     99  \n",
       "3  43270923     99  \n",
       "4  43270923     99  \n",
       "5  35937250     99  \n",
       "6  35937250     99  \n",
       "7  35937250     99  \n",
       "8  35937250     99  \n",
       "9  35937250     99  "
      ]
     },
     "execution_count": 35,
     "metadata": {},
     "output_type": "execute_result"
    }
   ],
   "source": [
    "df.head(10)"
   ]
  },
  {
   "cell_type": "code",
   "execution_count": 36,
   "metadata": {},
   "outputs": [
    {
     "name": "stdout",
     "output_type": "stream",
     "text": [
      "1\n",
      "3\n",
      "5\n",
      "7\n",
      "9\n",
      "11\n",
      "13\n",
      "15\n",
      "17\n",
      "19\n",
      "21\n",
      "23\n",
      "25\n",
      "27\n",
      "29\n",
      "31\n",
      "33\n",
      "35\n",
      "37\n",
      "39\n",
      "41\n",
      "43\n",
      "45\n",
      "47\n",
      "49\n",
      "50\n",
      "52\n",
      "54\n",
      "56\n",
      "58\n",
      "60\n",
      "62\n",
      "64\n",
      "66\n",
      "68\n",
      "70\n",
      "72\n",
      "74\n",
      "76\n",
      "78\n",
      "80\n",
      "82\n",
      "84\n",
      "86\n",
      "88\n",
      "90\n",
      "92\n",
      "94\n",
      "96\n",
      "98\n",
      "100\n"
     ]
    }
   ],
   "source": [
    "# filter overlapped \n",
    "rows = []\n",
    "discard = []\n",
    "total = len(df.index)\n",
    "count = 0\n",
    "curr = 0\n",
    "for index, row in df.iterrows():\n",
    "    count += 1\n",
    "    curr_new = int(count * 100 * 1.0 / (total * 1.0))\n",
    "    if curr_new != curr:\n",
    "        curr = curr_new\n",
    "        if curr_new % 1 == 0:\n",
    "            print(curr_new)\n",
    "    if index in discard:\n",
    "        continue\n",
    "    for k2, v2 in df.loc[index:,].iterrows():\n",
    "        if abs(v2.sstart - row.sstart) > params['min_distance']:\n",
    "            break\n",
    "        if abs(v2.sstart - row.sstart) <= params['min_distance'] and abs(v2.send - row.send) <= params['min_distance']:\n",
    "            discard.append(k2)\n",
    "    rows.append(row)\n"
   ]
  },
  {
   "cell_type": "code",
   "execution_count": 37,
   "metadata": {},
   "outputs": [
    {
     "name": "stdout",
     "output_type": "stream",
     "text": [
      "Non overlapped: 51\n"
     ]
    }
   ],
   "source": [
    "df = pd.DataFrame(rows)\n",
    "print('Non overlapped: ' + str(len(df.index)))\n",
    "non_overlapped = str(len(df.index))\n"
   ]
  },
  {
   "cell_type": "code",
   "execution_count": 38,
   "metadata": {},
   "outputs": [
    {
     "data": {
      "text/plain": [
       "'data/rice/96.filtered.csv'"
      ]
     },
     "execution_count": 38,
     "metadata": {},
     "output_type": "execute_result"
    }
   ],
   "source": [
    "df.to_csv(path_blast_filtered, index=None, sep='\\t')\n",
    "path_blast_filtered"
   ]
  },
  {
   "cell_type": "code",
   "execution_count": 39,
   "metadata": {},
   "outputs": [
    {
     "name": "stdout",
     "output_type": "stream",
     "text": [
      "Initial: 98\n",
      "Min len: 98\n",
      "Max len: 98\n",
      "Min treshold: 51\n",
      "Max treshold: 51\n",
      "Min pident: 51\n",
      "Min qcov: 51\n",
      "Non overlapped: 51\n",
      "Saved: data/rice/96.filtered.csv\n"
     ]
    }
   ],
   "source": [
    "print('Initial: ' + str(initial))\n",
    "print('Min len: ' + str(min_length))\n",
    "print('Max len: ' + str(max_length))\n",
    "print('Min treshold: ' + str(min_treshold))\n",
    "print('Max treshold: ' + str(max_treshold))\n",
    "print('Min pident: ' + str(min_pident))\n",
    "print('Min qcov: ' + str(min_qcov))\n",
    "print('Non overlapped: ' + str(non_overlapped))\n",
    "print('Saved: ' + path_blast_filtered)"
   ]
  },
  {
   "cell_type": "code",
   "execution_count": null,
   "metadata": {},
   "outputs": [],
   "source": []
  },
  {
   "cell_type": "code",
   "execution_count": null,
   "metadata": {},
   "outputs": [],
   "source": []
  },
  {
   "cell_type": "code",
   "execution_count": null,
   "metadata": {},
   "outputs": [],
   "source": []
  }
 ],
 "metadata": {
  "kernelspec": {
   "display_name": "Python 3",
   "language": "python",
   "name": "python3"
  },
  "language_info": {
   "codemirror_mode": {
    "name": "ipython",
    "version": 3
   },
   "file_extension": ".py",
   "mimetype": "text/x-python",
   "name": "python",
   "nbconvert_exporter": "python",
   "pygments_lexer": "ipython3",
   "version": "3.6.5"
  }
 },
 "nbformat": 4,
 "nbformat_minor": 2
}
