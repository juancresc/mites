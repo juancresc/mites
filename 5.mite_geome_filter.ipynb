{
 "cells": [
  {
   "cell_type": "code",
   "execution_count": 237,
   "metadata": {},
   "outputs": [],
   "source": [
    "import pandas as pd\n",
    "import matplotlib.pyplot as plt\n",
    "import seaborn as sns"
   ]
  },
  {
   "cell_type": "code",
   "execution_count": 238,
   "metadata": {},
   "outputs": [],
   "source": [
    "path_blast = 'data/wheat/selected_candidates.csv'\n",
    "path_blast_filtered = 'data/wheat/selected_candidates.filtered.csv'\n"
   ]
  },
  {
   "cell_type": "code",
   "execution_count": 239,
   "metadata": {},
   "outputs": [],
   "source": [
    "#TEs\n",
    "params = {'min_len':50,'max_len':False,'min_distance':5,'max_q':1.1,'min_q':0.9,'min_pident':96,'min_qcov':94}\n"
   ]
  },
  {
   "cell_type": "code",
   "execution_count": null,
   "metadata": {},
   "outputs": [],
   "source": []
  },
  {
   "cell_type": "code",
   "execution_count": 240,
   "metadata": {},
   "outputs": [
    {
     "name": "stdout",
     "output_type": "stream",
     "text": [
      "initial: 25371\n"
     ]
    }
   ],
   "source": [
    "#read blast output\n",
    "df = pd.read_csv(path_blast, sep='\\t', header=None)\n",
    "df.columns = ['qseqid','sseqid','qstart','qend','sstart','send','mismatch','gaps','pident','evalue','length','qlen','slen','qcovs']\n",
    "print('initial:',len(df.index))\n",
    "initial = len(df.index)"
   ]
  },
  {
   "cell_type": "code",
   "execution_count": 241,
   "metadata": {},
   "outputs": [
    {
     "name": "stdout",
     "output_type": "stream",
     "text": [
      "Min len: 25371\n"
     ]
    }
   ],
   "source": [
    "#filter by length\n",
    "if(params['min_len']):\n",
    "    df = df[df.qlen > params['min_len']]\n",
    "print('Min len: ' + str(len(df.index)))\n",
    "min_length = str(len(df.index))"
   ]
  },
  {
   "cell_type": "code",
   "execution_count": 242,
   "metadata": {},
   "outputs": [
    {
     "name": "stdout",
     "output_type": "stream",
     "text": [
      "Max len: 25371\n"
     ]
    }
   ],
   "source": [
    "if(params['max_len']):\n",
    "    df = df[df.qlen < params['max_len']]\n",
    "print('Max len: ' + str(len(df.index)))    \n",
    "max_length = str(len(df.index))"
   ]
  },
  {
   "cell_type": "code",
   "execution_count": 243,
   "metadata": {},
   "outputs": [
    {
     "name": "stdout",
     "output_type": "stream",
     "text": [
      "min treshold: 15099\n"
     ]
    }
   ],
   "source": [
    "#filter by query / subject length treshold\n",
    "df = df[((df.length / df.qlen) >= params['min_q'])]\n",
    "print('min treshold:',len(df.index))\n",
    "min_treshold = str(len(df.index))"
   ]
  },
  {
   "cell_type": "code",
   "execution_count": 244,
   "metadata": {},
   "outputs": [
    {
     "name": "stdout",
     "output_type": "stream",
     "text": [
      "max treshold: 14373\n"
     ]
    }
   ],
   "source": [
    "df = df[((df.length / df.qlen) <= params['max_q'])]\n",
    "print('max treshold:',len(df.index))\n",
    "max_treshold = str(len(df.index))"
   ]
  },
  {
   "cell_type": "code",
   "execution_count": 246,
   "metadata": {},
   "outputs": [
    {
     "name": "stdout",
     "output_type": "stream",
     "text": [
      "Min qcov: 14373\n"
     ]
    }
   ],
   "source": [
    "#filter by qcov\n",
    "df = df[(df.qcovs >= params['min_qcov'])]\n",
    "print('Min qcov: ' + str(len(df.index)))\n",
    "min_qcov = str(len(df.index))"
   ]
  },
  {
   "cell_type": "code",
   "execution_count": 247,
   "metadata": {},
   "outputs": [
    {
     "data": {
      "text/html": [
       "<div>\n",
       "<style scoped>\n",
       "    .dataframe tbody tr th:only-of-type {\n",
       "        vertical-align: middle;\n",
       "    }\n",
       "\n",
       "    .dataframe tbody tr th {\n",
       "        vertical-align: top;\n",
       "    }\n",
       "\n",
       "    .dataframe thead th {\n",
       "        text-align: right;\n",
       "    }\n",
       "</style>\n",
       "<table border=\"1\" class=\"dataframe\">\n",
       "  <thead>\n",
       "    <tr style=\"text-align: right;\">\n",
       "      <th></th>\n",
       "      <th>qseqid</th>\n",
       "      <th>sseqid</th>\n",
       "      <th>qstart</th>\n",
       "      <th>qend</th>\n",
       "      <th>sstart</th>\n",
       "      <th>send</th>\n",
       "      <th>mismatch</th>\n",
       "      <th>gaps</th>\n",
       "      <th>pident</th>\n",
       "      <th>evalue</th>\n",
       "      <th>length</th>\n",
       "      <th>qlen</th>\n",
       "      <th>slen</th>\n",
       "      <th>qcovs</th>\n",
       "    </tr>\n",
       "  </thead>\n",
       "  <tbody>\n",
       "    <tr>\n",
       "      <th>0</th>\n",
       "      <td>MITE_568_5B_263944566_263944833</td>\n",
       "      <td>5B</td>\n",
       "      <td>1</td>\n",
       "      <td>267</td>\n",
       "      <td>263944567</td>\n",
       "      <td>263944833</td>\n",
       "      <td>0</td>\n",
       "      <td>0</td>\n",
       "      <td>100.0</td>\n",
       "      <td>5.970000e-137</td>\n",
       "      <td>267</td>\n",
       "      <td>267</td>\n",
       "      <td>713149757</td>\n",
       "      <td>100</td>\n",
       "    </tr>\n",
       "  </tbody>\n",
       "</table>\n",
       "</div>"
      ],
      "text/plain": [
       "                            qseqid sseqid  qstart  qend     sstart       send  \\\n",
       "0  MITE_568_5B_263944566_263944833     5B       1   267  263944567  263944833   \n",
       "\n",
       "   mismatch  gaps  pident         evalue  length  qlen       slen  qcovs  \n",
       "0         0     0   100.0  5.970000e-137     267   267  713149757    100  "
      ]
     },
     "execution_count": 247,
     "metadata": {},
     "output_type": "execute_result"
    }
   ],
   "source": [
    "df.head(1)"
   ]
  },
  {
   "cell_type": "code",
   "execution_count": 233,
   "metadata": {},
   "outputs": [],
   "source": [
    "#MITE_476_4B_13282159_13282337\n",
    "#DTT_Taes_Hades_BQ161682-1_6B_145574154_145574234\n",
    "#DTT_Taes_Polyphemus_464G14-3_Un_40974812_40975048\n",
    "#DTT_Taes_Icarus_BJ276129-1_5D_459108652_459108772\n",
    "#DTT_Tdur_Athos_103H9-1_4A_621583700_621583776\n",
    "#MITE_159_6D_443767375_443767541\n",
    "#MITE_231_5A_445393104_445393226\n",
    "#MITE_568_5B_263944566_263944833\n"
   ]
  },
  {
   "cell_type": "code",
   "execution_count": null,
   "metadata": {},
   "outputs": [],
   "source": []
  },
  {
   "cell_type": "code",
   "execution_count": 249,
   "metadata": {},
   "outputs": [],
   "source": [
    "\n",
    "#df_2 = df[df.qseqid=='DTT_Taes_Polyphemus_464G14-3_Un_40974812_40975048']res = []\n",
    "#myrange = [i for i in range(100,20,-1)]\n",
    "#for i in myrange:\n",
    "    #filter by pident\n",
    "#    df_new = df_2[(df_2.pident >= i)]\n",
    "#    min_pident = str(len(df_new.index))\n",
    "#    res.append(min_pident)\n",
    "#df_plot = pd.DataFrame({'pid':myrange,'count':res})\n",
    "#sns.scatterplot(x=\"pid\", y=\"count\", data=df_plot);\n"
   ]
  },
  {
   "cell_type": "code",
   "execution_count": null,
   "metadata": {},
   "outputs": [],
   "source": []
  },
  {
   "cell_type": "code",
   "execution_count": null,
   "metadata": {},
   "outputs": [],
   "source": []
  },
  {
   "cell_type": "code",
   "execution_count": null,
   "metadata": {},
   "outputs": [],
   "source": []
  },
  {
   "cell_type": "code",
   "execution_count": null,
   "metadata": {},
   "outputs": [],
   "source": []
  },
  {
   "cell_type": "code",
   "execution_count": 250,
   "metadata": {},
   "outputs": [
    {
     "name": "stdout",
     "output_type": "stream",
     "text": [
      "Min_pident: 3083\n"
     ]
    }
   ],
   "source": [
    "#filter by pident\n",
    "df = df[(df.pident >= params['min_pident'])]\n",
    "print('Min_pident: ' + str(len(df.index)))\n",
    "min_pident = str(len(df.index))"
   ]
  },
  {
   "cell_type": "code",
   "execution_count": null,
   "metadata": {},
   "outputs": [],
   "source": []
  },
  {
   "cell_type": "code",
   "execution_count": null,
   "metadata": {},
   "outputs": [],
   "source": []
  },
  {
   "cell_type": "code",
   "execution_count": null,
   "metadata": {},
   "outputs": [],
   "source": []
  },
  {
   "cell_type": "code",
   "execution_count": 251,
   "metadata": {},
   "outputs": [],
   "source": [
    "#order sstart and send\n",
    "df['new_sstart'] = df[['sstart','send']].min(axis=1)\n",
    "df['new_ssend'] = df[['sstart','send']].max(axis=1)\n",
    "df['sstart'] = df['new_sstart']\n",
    "df['send'] = df['new_ssend']\n",
    "df = df.drop('new_sstart',axis=1).drop('new_ssend',axis=1)\n",
    "df = df.sort_values(by=['sseqid','sstart', 'send'])\n",
    "df = df.reset_index(drop=True)\n",
    "# sep by chr\n",
    "dfs = {}\n",
    "for seq in df.sseqid.unique():\n",
    "    dfs[seq] = df[df.sseqid == seq]"
   ]
  },
  {
   "cell_type": "code",
   "execution_count": 252,
   "metadata": {},
   "outputs": [
    {
     "data": {
      "text/html": [
       "<div>\n",
       "<style scoped>\n",
       "    .dataframe tbody tr th:only-of-type {\n",
       "        vertical-align: middle;\n",
       "    }\n",
       "\n",
       "    .dataframe tbody tr th {\n",
       "        vertical-align: top;\n",
       "    }\n",
       "\n",
       "    .dataframe thead th {\n",
       "        text-align: right;\n",
       "    }\n",
       "</style>\n",
       "<table border=\"1\" class=\"dataframe\">\n",
       "  <thead>\n",
       "    <tr style=\"text-align: right;\">\n",
       "      <th></th>\n",
       "      <th>qseqid</th>\n",
       "      <th>sseqid</th>\n",
       "      <th>qstart</th>\n",
       "      <th>qend</th>\n",
       "      <th>sstart</th>\n",
       "      <th>send</th>\n",
       "      <th>mismatch</th>\n",
       "      <th>gaps</th>\n",
       "      <th>pident</th>\n",
       "      <th>evalue</th>\n",
       "      <th>length</th>\n",
       "      <th>qlen</th>\n",
       "      <th>slen</th>\n",
       "      <th>qcovs</th>\n",
       "    </tr>\n",
       "  </thead>\n",
       "  <tbody>\n",
       "    <tr>\n",
       "      <th>0</th>\n",
       "      <td>DTT_Taes_Hades_BQ161682-1_6B_145574154_145574234</td>\n",
       "      <td>1A</td>\n",
       "      <td>1</td>\n",
       "      <td>80</td>\n",
       "      <td>1209536</td>\n",
       "      <td>1209615</td>\n",
       "      <td>3</td>\n",
       "      <td>0</td>\n",
       "      <td>96.25</td>\n",
       "      <td>1.160000e-28</td>\n",
       "      <td>80</td>\n",
       "      <td>80</td>\n",
       "      <td>594102056</td>\n",
       "      <td>100</td>\n",
       "    </tr>\n",
       "    <tr>\n",
       "      <th>1</th>\n",
       "      <td>MITE_476_4B_13282159_13282337</td>\n",
       "      <td>1A</td>\n",
       "      <td>1</td>\n",
       "      <td>178</td>\n",
       "      <td>3675114</td>\n",
       "      <td>3675291</td>\n",
       "      <td>0</td>\n",
       "      <td>0</td>\n",
       "      <td>100.00</td>\n",
       "      <td>1.110000e-87</td>\n",
       "      <td>178</td>\n",
       "      <td>178</td>\n",
       "      <td>594102056</td>\n",
       "      <td>100</td>\n",
       "    </tr>\n",
       "    <tr>\n",
       "      <th>2</th>\n",
       "      <td>DTT_Taes_Polyphemus_464G14-3_Un_40974812_40975048</td>\n",
       "      <td>1A</td>\n",
       "      <td>1</td>\n",
       "      <td>236</td>\n",
       "      <td>8129530</td>\n",
       "      <td>8129765</td>\n",
       "      <td>8</td>\n",
       "      <td>0</td>\n",
       "      <td>96.61</td>\n",
       "      <td>1.950000e-106</td>\n",
       "      <td>236</td>\n",
       "      <td>236</td>\n",
       "      <td>594102056</td>\n",
       "      <td>100</td>\n",
       "    </tr>\n",
       "  </tbody>\n",
       "</table>\n",
       "</div>"
      ],
      "text/plain": [
       "                                              qseqid sseqid  qstart  qend  \\\n",
       "0   DTT_Taes_Hades_BQ161682-1_6B_145574154_145574234     1A       1    80   \n",
       "1                      MITE_476_4B_13282159_13282337     1A       1   178   \n",
       "2  DTT_Taes_Polyphemus_464G14-3_Un_40974812_40975048     1A       1   236   \n",
       "\n",
       "    sstart     send  mismatch  gaps  pident         evalue  length  qlen  \\\n",
       "0  1209536  1209615         3     0   96.25   1.160000e-28      80    80   \n",
       "1  3675114  3675291         0     0  100.00   1.110000e-87     178   178   \n",
       "2  8129530  8129765         8     0   96.61  1.950000e-106     236   236   \n",
       "\n",
       "        slen  qcovs  \n",
       "0  594102056    100  \n",
       "1  594102056    100  \n",
       "2  594102056    100  "
      ]
     },
     "execution_count": 252,
     "metadata": {},
     "output_type": "execute_result"
    }
   ],
   "source": [
    "df.head(3)"
   ]
  },
  {
   "cell_type": "code",
   "execution_count": 253,
   "metadata": {},
   "outputs": [
    {
     "name": "stdout",
     "output_type": "stream",
     "text": [
      "5\n",
      "10\n",
      "15\n",
      "20\n",
      "25\n",
      "30\n",
      "35\n",
      "40\n",
      "45\n",
      "50\n",
      "55\n",
      "60\n",
      "65\n",
      "70\n",
      "75\n",
      "80\n",
      "85\n",
      "90\n",
      "95\n",
      "100\n"
     ]
    }
   ],
   "source": [
    "# filter overlapped \n",
    "rows = []\n",
    "discard = []\n",
    "total = len(df.index)\n",
    "count = 0\n",
    "curr = 0\n",
    "for index, row in df.iterrows():\n",
    "    count += 1\n",
    "    curr_new = int(count * 100 * 1.0 / (total * 1.0))\n",
    "    if curr_new != curr:\n",
    "        curr = curr_new\n",
    "        if curr_new % 5 == 0:\n",
    "            print(curr_new)\n",
    "    if index in discard:\n",
    "        continue\n",
    "    for k2, v2 in df.loc[index:,].iterrows():\n",
    "        if abs(v2.sstart - row.sstart) > params['min_distance']:\n",
    "            break\n",
    "        if abs(v2.sstart - row.sstart) <= params['min_distance'] and abs(v2.send - row.send) <= params['min_distance']:\n",
    "            discard.append(k2)\n",
    "    rows.append(row)\n"
   ]
  },
  {
   "cell_type": "code",
   "execution_count": 254,
   "metadata": {},
   "outputs": [
    {
     "name": "stdout",
     "output_type": "stream",
     "text": [
      "Non overlapped: 2966\n"
     ]
    }
   ],
   "source": [
    "df = pd.DataFrame(rows)\n",
    "print('Non overlapped: ' + str(len(df.index)))\n",
    "non_overlapped = str(len(df.index))\n"
   ]
  },
  {
   "cell_type": "code",
   "execution_count": 255,
   "metadata": {},
   "outputs": [
    {
     "data": {
      "text/plain": [
       "'data/wheat/selected_candidates.filtered.csv'"
      ]
     },
     "execution_count": 255,
     "metadata": {},
     "output_type": "execute_result"
    }
   ],
   "source": [
    "df.to_csv(path_blast_filtered, index=None, sep='\\t')\n",
    "path_blast_filtered"
   ]
  },
  {
   "cell_type": "code",
   "execution_count": 256,
   "metadata": {},
   "outputs": [
    {
     "name": "stdout",
     "output_type": "stream",
     "text": [
      "Initial: 25371\n",
      "Min len: 25371\n",
      "Max len: 25371\n",
      "Min treshold: 15099\n",
      "Max treshold: 14373\n",
      "Min pident: 3083\n",
      "Min qcov: 14373\n",
      "Non overlapped: 2966\n",
      "Saved: data/wheat/selected_candidates.filtered.csv\n"
     ]
    }
   ],
   "source": [
    "print('Initial: ' + str(initial))\n",
    "print('Min len: ' + str(min_length))\n",
    "print('Max len: ' + str(max_length))\n",
    "print('Min treshold: ' + str(min_treshold))\n",
    "print('Max treshold: ' + str(max_treshold))\n",
    "print('Min pident: ' + str(min_pident))\n",
    "print('Min qcov: ' + str(min_qcov))\n",
    "print('Non overlapped: ' + str(non_overlapped))\n",
    "print('Saved: ' + path_blast_filtered)"
   ]
  },
  {
   "cell_type": "code",
   "execution_count": 257,
   "metadata": {},
   "outputs": [
    {
     "data": {
      "text/html": [
       "<div>\n",
       "<style scoped>\n",
       "    .dataframe tbody tr th:only-of-type {\n",
       "        vertical-align: middle;\n",
       "    }\n",
       "\n",
       "    .dataframe tbody tr th {\n",
       "        vertical-align: top;\n",
       "    }\n",
       "\n",
       "    .dataframe thead tr th {\n",
       "        text-align: left;\n",
       "    }\n",
       "\n",
       "    .dataframe thead tr:last-of-type th {\n",
       "        text-align: right;\n",
       "    }\n",
       "</style>\n",
       "<table border=\"1\" class=\"dataframe\">\n",
       "  <thead>\n",
       "    <tr>\n",
       "      <th></th>\n",
       "      <th>sseqid</th>\n",
       "      <th>qstart</th>\n",
       "      <th>qend</th>\n",
       "      <th>sstart</th>\n",
       "      <th>send</th>\n",
       "      <th>mismatch</th>\n",
       "      <th>gaps</th>\n",
       "      <th>pident</th>\n",
       "      <th>evalue</th>\n",
       "      <th>length</th>\n",
       "      <th>qlen</th>\n",
       "      <th>slen</th>\n",
       "      <th>qcovs</th>\n",
       "    </tr>\n",
       "    <tr>\n",
       "      <th></th>\n",
       "      <th>count</th>\n",
       "      <th>count</th>\n",
       "      <th>count</th>\n",
       "      <th>count</th>\n",
       "      <th>count</th>\n",
       "      <th>count</th>\n",
       "      <th>count</th>\n",
       "      <th>count</th>\n",
       "      <th>count</th>\n",
       "      <th>count</th>\n",
       "      <th>count</th>\n",
       "      <th>count</th>\n",
       "      <th>count</th>\n",
       "    </tr>\n",
       "    <tr>\n",
       "      <th>qseqid</th>\n",
       "      <th></th>\n",
       "      <th></th>\n",
       "      <th></th>\n",
       "      <th></th>\n",
       "      <th></th>\n",
       "      <th></th>\n",
       "      <th></th>\n",
       "      <th></th>\n",
       "      <th></th>\n",
       "      <th></th>\n",
       "      <th></th>\n",
       "      <th></th>\n",
       "      <th></th>\n",
       "    </tr>\n",
       "  </thead>\n",
       "  <tbody>\n",
       "    <tr>\n",
       "      <th>DTT_Taes_Hades_BQ161682-1_6B_145574154_145574234</th>\n",
       "      <td>1251</td>\n",
       "      <td>1251</td>\n",
       "      <td>1251</td>\n",
       "      <td>1251</td>\n",
       "      <td>1251</td>\n",
       "      <td>1251</td>\n",
       "      <td>1251</td>\n",
       "      <td>1251</td>\n",
       "      <td>1251</td>\n",
       "      <td>1251</td>\n",
       "      <td>1251</td>\n",
       "      <td>1251</td>\n",
       "      <td>1251</td>\n",
       "    </tr>\n",
       "    <tr>\n",
       "      <th>DTT_Taes_Icarus_BJ276129-1_5D_459108652_459108772</th>\n",
       "      <td>72</td>\n",
       "      <td>72</td>\n",
       "      <td>72</td>\n",
       "      <td>72</td>\n",
       "      <td>72</td>\n",
       "      <td>72</td>\n",
       "      <td>72</td>\n",
       "      <td>72</td>\n",
       "      <td>72</td>\n",
       "      <td>72</td>\n",
       "      <td>72</td>\n",
       "      <td>72</td>\n",
       "      <td>72</td>\n",
       "    </tr>\n",
       "    <tr>\n",
       "      <th>DTT_Taes_Polyphemus_464G14-3_Un_40974812_40975048</th>\n",
       "      <td>78</td>\n",
       "      <td>78</td>\n",
       "      <td>78</td>\n",
       "      <td>78</td>\n",
       "      <td>78</td>\n",
       "      <td>78</td>\n",
       "      <td>78</td>\n",
       "      <td>78</td>\n",
       "      <td>78</td>\n",
       "      <td>78</td>\n",
       "      <td>78</td>\n",
       "      <td>78</td>\n",
       "      <td>78</td>\n",
       "    </tr>\n",
       "    <tr>\n",
       "      <th>DTT_Tdur_Athos_103H9-1_4A_621583700_621583776</th>\n",
       "      <td>378</td>\n",
       "      <td>378</td>\n",
       "      <td>378</td>\n",
       "      <td>378</td>\n",
       "      <td>378</td>\n",
       "      <td>378</td>\n",
       "      <td>378</td>\n",
       "      <td>378</td>\n",
       "      <td>378</td>\n",
       "      <td>378</td>\n",
       "      <td>378</td>\n",
       "      <td>378</td>\n",
       "      <td>378</td>\n",
       "    </tr>\n",
       "    <tr>\n",
       "      <th>MITE_159_6D_443767375_443767541</th>\n",
       "      <td>79</td>\n",
       "      <td>79</td>\n",
       "      <td>79</td>\n",
       "      <td>79</td>\n",
       "      <td>79</td>\n",
       "      <td>79</td>\n",
       "      <td>79</td>\n",
       "      <td>79</td>\n",
       "      <td>79</td>\n",
       "      <td>79</td>\n",
       "      <td>79</td>\n",
       "      <td>79</td>\n",
       "      <td>79</td>\n",
       "    </tr>\n",
       "    <tr>\n",
       "      <th>MITE_231_5A_445393104_445393226</th>\n",
       "      <td>53</td>\n",
       "      <td>53</td>\n",
       "      <td>53</td>\n",
       "      <td>53</td>\n",
       "      <td>53</td>\n",
       "      <td>53</td>\n",
       "      <td>53</td>\n",
       "      <td>53</td>\n",
       "      <td>53</td>\n",
       "      <td>53</td>\n",
       "      <td>53</td>\n",
       "      <td>53</td>\n",
       "      <td>53</td>\n",
       "    </tr>\n",
       "    <tr>\n",
       "      <th>MITE_476_4B_13282159_13282337</th>\n",
       "      <td>1032</td>\n",
       "      <td>1032</td>\n",
       "      <td>1032</td>\n",
       "      <td>1032</td>\n",
       "      <td>1032</td>\n",
       "      <td>1032</td>\n",
       "      <td>1032</td>\n",
       "      <td>1032</td>\n",
       "      <td>1032</td>\n",
       "      <td>1032</td>\n",
       "      <td>1032</td>\n",
       "      <td>1032</td>\n",
       "      <td>1032</td>\n",
       "    </tr>\n",
       "    <tr>\n",
       "      <th>MITE_568_5B_263944566_263944833</th>\n",
       "      <td>23</td>\n",
       "      <td>23</td>\n",
       "      <td>23</td>\n",
       "      <td>23</td>\n",
       "      <td>23</td>\n",
       "      <td>23</td>\n",
       "      <td>23</td>\n",
       "      <td>23</td>\n",
       "      <td>23</td>\n",
       "      <td>23</td>\n",
       "      <td>23</td>\n",
       "      <td>23</td>\n",
       "      <td>23</td>\n",
       "    </tr>\n",
       "  </tbody>\n",
       "</table>\n",
       "</div>"
      ],
      "text/plain": [
       "                                                  sseqid qstart  qend sstart  \\\n",
       "                                                   count  count count  count   \n",
       "qseqid                                                                         \n",
       "DTT_Taes_Hades_BQ161682-1_6B_145574154_145574234    1251   1251  1251   1251   \n",
       "DTT_Taes_Icarus_BJ276129-1_5D_459108652_459108772     72     72    72     72   \n",
       "DTT_Taes_Polyphemus_464G14-3_Un_40974812_40975048     78     78    78     78   \n",
       "DTT_Tdur_Athos_103H9-1_4A_621583700_621583776        378    378   378    378   \n",
       "MITE_159_6D_443767375_443767541                       79     79    79     79   \n",
       "MITE_231_5A_445393104_445393226                       53     53    53     53   \n",
       "MITE_476_4B_13282159_13282337                       1032   1032  1032   1032   \n",
       "MITE_568_5B_263944566_263944833                       23     23    23     23   \n",
       "\n",
       "                                                   send mismatch  gaps pident  \\\n",
       "                                                  count    count count  count   \n",
       "qseqid                                                                          \n",
       "DTT_Taes_Hades_BQ161682-1_6B_145574154_145574234   1251     1251  1251   1251   \n",
       "DTT_Taes_Icarus_BJ276129-1_5D_459108652_459108772    72       72    72     72   \n",
       "DTT_Taes_Polyphemus_464G14-3_Un_40974812_40975048    78       78    78     78   \n",
       "DTT_Tdur_Athos_103H9-1_4A_621583700_621583776       378      378   378    378   \n",
       "MITE_159_6D_443767375_443767541                      79       79    79     79   \n",
       "MITE_231_5A_445393104_445393226                      53       53    53     53   \n",
       "MITE_476_4B_13282159_13282337                      1032     1032  1032   1032   \n",
       "MITE_568_5B_263944566_263944833                      23       23    23     23   \n",
       "\n",
       "                                                  evalue length  qlen  slen  \\\n",
       "                                                   count  count count count   \n",
       "qseqid                                                                        \n",
       "DTT_Taes_Hades_BQ161682-1_6B_145574154_145574234    1251   1251  1251  1251   \n",
       "DTT_Taes_Icarus_BJ276129-1_5D_459108652_459108772     72     72    72    72   \n",
       "DTT_Taes_Polyphemus_464G14-3_Un_40974812_40975048     78     78    78    78   \n",
       "DTT_Tdur_Athos_103H9-1_4A_621583700_621583776        378    378   378   378   \n",
       "MITE_159_6D_443767375_443767541                       79     79    79    79   \n",
       "MITE_231_5A_445393104_445393226                       53     53    53    53   \n",
       "MITE_476_4B_13282159_13282337                       1032   1032  1032  1032   \n",
       "MITE_568_5B_263944566_263944833                       23     23    23    23   \n",
       "\n",
       "                                                  qcovs  \n",
       "                                                  count  \n",
       "qseqid                                                   \n",
       "DTT_Taes_Hades_BQ161682-1_6B_145574154_145574234   1251  \n",
       "DTT_Taes_Icarus_BJ276129-1_5D_459108652_459108772    72  \n",
       "DTT_Taes_Polyphemus_464G14-3_Un_40974812_40975048    78  \n",
       "DTT_Tdur_Athos_103H9-1_4A_621583700_621583776       378  \n",
       "MITE_159_6D_443767375_443767541                      79  \n",
       "MITE_231_5A_445393104_445393226                      53  \n",
       "MITE_476_4B_13282159_13282337                      1032  \n",
       "MITE_568_5B_263944566_263944833                      23  "
      ]
     },
     "execution_count": 257,
     "metadata": {},
     "output_type": "execute_result"
    }
   ],
   "source": [
    "df.groupby('qseqid').agg(['count'])"
   ]
  },
  {
   "cell_type": "code",
   "execution_count": null,
   "metadata": {},
   "outputs": [],
   "source": []
  },
  {
   "cell_type": "code",
   "execution_count": null,
   "metadata": {},
   "outputs": [],
   "source": []
  },
  {
   "cell_type": "code",
   "execution_count": null,
   "metadata": {},
   "outputs": [],
   "source": []
  }
 ],
 "metadata": {
  "kernelspec": {
   "display_name": "Python 3",
   "language": "python",
   "name": "python3"
  },
  "language_info": {
   "codemirror_mode": {
    "name": "ipython",
    "version": 3
   },
   "file_extension": ".py",
   "mimetype": "text/x-python",
   "name": "python",
   "nbconvert_exporter": "python",
   "pygments_lexer": "ipython3",
   "version": "3.6.5"
  }
 },
 "nbformat": 4,
 "nbformat_minor": 2
}
