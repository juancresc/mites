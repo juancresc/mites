{
 "cells": [
  {
   "cell_type": "code",
   "execution_count": 32,
   "metadata": {},
   "outputs": [],
   "source": [
    "from subprocess import Popen, PIPE\n",
    "import os\n",
    "import pathlib\n",
    "import shutil\n",
    "import os\n",
    "import pandas as pd\n",
    "from Bio import SeqIO\n",
    "from Bio.SeqRecord import SeqRecord\n",
    "from Bio.Seq import Seq"
   ]
  },
  {
   "cell_type": "code",
   "execution_count": 2,
   "metadata": {},
   "outputs": [],
   "source": [
    "#rice\n",
    "path_mites_dire = 'data/rice/by_family/'\n",
    "path_out_dir = 'data/rice/by_cluster/'\n",
    "pid = 0.97\n",
    "what = 'rice'\n",
    "min_count = 10\n",
    "workers = 5"
   ]
  },
  {
   "cell_type": "code",
   "execution_count": 41,
   "metadata": {},
   "outputs": [],
   "source": [
    "#wheat\n",
    "path_mites_dire = 'data/wheat/by_family/'\n",
    "path_out_dir = 'data/wheat/by_cluster/'\n",
    "path_out_dir_clus = 'data/wheat/clusters_similar/'\n",
    "pid = 0.97\n",
    "path_out_fasta = 'data/wheat/similar.fasta'\n",
    "path_similar = 'data/wheat/similar_mites_count.csv'\n",
    "min_count = 10\n",
    "workers = 5"
   ]
  },
  {
   "cell_type": "code",
   "execution_count": null,
   "metadata": {},
   "outputs": [],
   "source": [
    "files = [f for f in os.listdir(path_mites_dire) if os.path.isfile(os.path.join(path_mites_dire, f))]\n",
    "count = 0\n",
    "total = len(files)\n",
    "for file in files:\n",
    "    file_path = path_mites_dire + file\n",
    "    count += 1\n",
    "    print(\"%i / %i\" % (count,total))\n",
    "    c_dir = path_out_dir + file + \"/\"\n",
    "    if os.path.exists(c_dir):\n",
    "        continue\n",
    "    if os.path.isdir(c_dir):\n",
    "        shutil.rmtree(c_dir)\n",
    "    pathlib.Path(c_dir).mkdir(parents=True, exist_ok=True)\n",
    "    cmd_list = [\n",
    "    './bin/vsearch-2.11.1/bin/vsearch',\n",
    "    '--cluster_fast', file_path,\n",
    "    '--threads',str(workers),\n",
    "    '--strand','both',\n",
    "    '--clusters', c_dir + \"c_\",\n",
    "    '--iddef','1',\n",
    "    '--id', str(pid)]\n",
    "    p = Popen(cmd_list, stdout=PIPE, stderr=PIPE)\n",
    "    out,err = p.communicate()\n"
   ]
  },
  {
   "cell_type": "code",
   "execution_count": null,
   "metadata": {},
   "outputs": [],
   "source": []
  },
  {
   "cell_type": "code",
   "execution_count": null,
   "metadata": {},
   "outputs": [],
   "source": [
    "files = [f for f in os.listdir(path_mites_dire) if os.path.isfile(os.path.join(path_mites_dire, f))]\n",
    "count = 0\n",
    "total = len(files)\n",
    "res = {}\n",
    "for file in files:\n",
    "    file_path = path_mites_dire + file\n",
    "    c_dir = path_out_dir + file + \"/\"\n",
    "    clusters = [f for f in os.listdir(c_dir) if os.path.isfile(os.path.join(c_dir, f))]\n",
    "    seqs = []\n",
    "    for cluster in clusters:\n",
    "        file_c = open(c_dir + cluster, \"r\")\n",
    "        count_seqs = 0\n",
    "        for line in file_c:\n",
    "            if line[0:1] == \">\":\n",
    "                count_seqs += 1\n",
    "        seqs.append(count_seqs)\n",
    "    if max(seqs) > min_count:\n",
    "        res[file] = (len(clusters), max(seqs))\n",
    "        #print(file + \": \" + str(len(clusters)) + \" max: \" + str(max(seqs)))\n",
    "        #print(\"*\" * 10)\n",
    "    count += 1\n",
    "    print(\"%i / %i\" % (count,total))"
   ]
  },
  {
   "cell_type": "code",
   "execution_count": null,
   "metadata": {},
   "outputs": [],
   "source": []
  },
  {
   "cell_type": "code",
   "execution_count": 6,
   "metadata": {},
   "outputs": [],
   "source": [
    "res_s = sorted(res.items(), key=lambda x:x[1][0])"
   ]
  },
  {
   "cell_type": "code",
   "execution_count": 14,
   "metadata": {},
   "outputs": [],
   "source": []
  },
  {
   "cell_type": "code",
   "execution_count": 12,
   "metadata": {},
   "outputs": [],
   "source": [
    "\n",
    "with open(path_similar, 'w') as f:\n",
    "    for v in res_s:\n",
    "        f.write(\"%s,%s,%s\\n\"%(v[0],v[1][0],v[1][1]))\n"
   ]
  },
  {
   "cell_type": "code",
   "execution_count": 9,
   "metadata": {},
   "outputs": [
    {
     "data": {
      "text/plain": [
       "'rice'"
      ]
     },
     "execution_count": 9,
     "metadata": {},
     "output_type": "execute_result"
    }
   ],
   "source": []
  },
  {
   "cell_type": "code",
   "execution_count": null,
   "metadata": {},
   "outputs": [],
   "source": []
  },
  {
   "cell_type": "code",
   "execution_count": null,
   "metadata": {},
   "outputs": [],
   "source": []
  },
  {
   "cell_type": "code",
   "execution_count": null,
   "metadata": {},
   "outputs": [],
   "source": [
    "#extract fasta of top hits"
   ]
  },
  {
   "cell_type": "code",
   "execution_count": 23,
   "metadata": {},
   "outputs": [],
   "source": [
    "df_similar = pd.read_csv(path_similar, sep=',', header=None)"
   ]
  },
  {
   "cell_type": "code",
   "execution_count": 24,
   "metadata": {},
   "outputs": [],
   "source": [
    "df_similar.columns = ['MITE','clusters','counts']"
   ]
  },
  {
   "cell_type": "code",
   "execution_count": 26,
   "metadata": {},
   "outputs": [],
   "source": [
    "df_similar = df_similar[df_similar.counts > 100]"
   ]
  },
  {
   "cell_type": "code",
   "execution_count": 28,
   "metadata": {},
   "outputs": [],
   "source": [
    "pd.set_option('display.max_colwidth', -1)\n"
   ]
  },
  {
   "cell_type": "code",
   "execution_count": null,
   "metadata": {},
   "outputs": [],
   "source": [
    "buffer_mites = []\n",
    "for k,v in df_similar.iterrows():\n",
    "    mite = v.MITE\n",
    "    count = v.counts\n",
    "    file_path = path_mites_dire + mite\n",
    "    fasta_seq = SeqIO.parse(file_path, 'fasta')\n",
    "    first_record = next(fasta_seq)\n",
    "    buffer_mites.append(first_record)\n",
    "    print(mite, count)"
   ]
  },
  {
   "cell_type": "code",
   "execution_count": 39,
   "metadata": {},
   "outputs": [
    {
     "data": {
      "text/plain": [
       "1723"
      ]
     },
     "execution_count": 39,
     "metadata": {},
     "output_type": "execute_result"
    }
   ],
   "source": [
    "SeqIO.write(buffer_mites, path_out_fasta, \"fasta\")"
   ]
  },
  {
   "cell_type": "code",
   "execution_count": 42,
   "metadata": {},
   "outputs": [],
   "source": [
    "cmd_list = [\n",
    "'./bin/vsearch-2.11.1/bin/vsearch',\n",
    "'--cluster_fast', path_out_fasta,\n",
    "'--threads',str(workers),\n",
    "'--strand','both',\n",
    "'--clusters', path_out_dir_clus + \"c_\",\n",
    "'--iddef','1',\n",
    "'--id', '0.6']\n",
    "p = Popen(cmd_list, stdout=PIPE, stderr=PIPE)\n",
    "out,err = p.communicate()\n"
   ]
  },
  {
   "cell_type": "code",
   "execution_count": null,
   "metadata": {},
   "outputs": [],
   "source": []
  },
  {
   "cell_type": "code",
   "execution_count": null,
   "metadata": {},
   "outputs": [],
   "source": []
  }
 ],
 "metadata": {
  "kernelspec": {
   "display_name": "Python 3",
   "language": "python",
   "name": "python3"
  },
  "language_info": {
   "codemirror_mode": {
    "name": "ipython",
    "version": 3
   },
   "file_extension": ".py",
   "mimetype": "text/x-python",
   "name": "python",
   "nbconvert_exporter": "python",
   "pygments_lexer": "ipython3",
   "version": "3.6.5"
  }
 },
 "nbformat": 4,
 "nbformat_minor": 2
}
