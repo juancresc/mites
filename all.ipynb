{
 "cells": [
  {
   "cell_type": "code",
   "execution_count": 10,
   "metadata": {},
   "outputs": [],
   "source": [
    "import pandas as pd\n",
    "from Bio import SeqIO\n",
    "from Bio.SeqRecord import SeqRecord\n",
    "from Bio.Seq import Seq\n",
    "from subprocess import Popen, PIPE\n",
    "import os\n",
    "import pathlib\n",
    "import shutil"
   ]
  },
  {
   "cell_type": "code",
   "execution_count": 14,
   "metadata": {},
   "outputs": [],
   "source": [
    "path_genome = '/home/juan/Desktop/juan/bio/data/genomes/rice/IRGSP-1.0_genome.fasta'\n",
    "path_blast = 'data/wheat/allmites.fasta.csv'\n",
    "organism = 'rice'\n",
    "params = {'min_len':50,'max_len':False,'min_distance':5,'max_q':1.25,'min_q':0.85,'min_pident':96,'min_qcov':93}"
   ]
  },
  {
   "cell_type": "code",
   "execution_count": 2,
   "metadata": {},
   "outputs": [],
   "source": [
    "path_genome = '/home/juan/Desktop/juan/bio/data/IWGSC/42/Triticum_aestivum.IWGSC.dna.toplevel.fa'\n",
    "path_gff = 'data/wheat/allmites.filtered.gff'\n",
    "organism = 'wheat'"
   ]
  },
  {
   "cell_type": "code",
   "execution_count": null,
   "metadata": {},
   "outputs": [],
   "source": [
    "path_out_dir = 'data/' + organism + '/by_family/'"
   ]
  },
  {
   "cell_type": "code",
   "execution_count": null,
   "metadata": {},
   "outputs": [],
   "source": []
  },
  {
   "cell_type": "code",
   "execution_count": 15,
   "metadata": {},
   "outputs": [
    {
     "name": "stdout",
     "output_type": "stream",
     "text": [
      "initial: 36523233\n"
     ]
    }
   ],
   "source": [
    "#read blast output\n",
    "df = pd.read_csv(path_blast, sep='\\t', header=None)\n",
    "df.columns = ['qseqid','sseqid','qstart','qend','sstart','send','mismatch','gaps','pident','evalue','length','qlen','slen','qcovs']\n",
    "print('initial:',len(df.index))\n",
    "initial = len(df.index)"
   ]
  },
  {
   "cell_type": "code",
   "execution_count": 4,
   "metadata": {},
   "outputs": [],
   "source": []
  },
  {
   "cell_type": "code",
   "execution_count": 5,
   "metadata": {},
   "outputs": [],
   "source": [
    "df = pd.read_csv(path_gff, sep='\\t')"
   ]
  },
  {
   "cell_type": "code",
   "execution_count": 6,
   "metadata": {},
   "outputs": [
    {
     "name": "stdout",
     "output_type": "stream",
     "text": [
      "22129373\n"
     ]
    }
   ],
   "source": [
    "df.columns = ['seqname', 'source', 'feature', 'start', 'end', 'score', 'strand', 'frame', 'attribute']\n",
    "print(len(df.index))"
   ]
  },
  {
   "cell_type": "code",
   "execution_count": 7,
   "metadata": {},
   "outputs": [],
   "source": [
    "fasta_seq = SeqIO.parse(path_genome, 'fasta')\n",
    "buffer_mites = {}"
   ]
  },
  {
   "cell_type": "code",
   "execution_count": null,
   "metadata": {},
   "outputs": [],
   "source": [
    "for record in fasta_seq:\n",
    "    dff_extract = df[df.seqname == record.id]\n",
    "    count = 0\n",
    "    curr = 0\n",
    "    total = len(dff_extract.index)\n",
    "    print(record.id, len(dff_extract.index))\n",
    "    clean_seq = ''.join(str(record.seq).splitlines())\n",
    "    for k,v in dff_extract.iterrows():\n",
    "        start = min(v.start,v.end)\n",
    "        end = max(v.start,v.end)\n",
    "        new_seq = clean_seq[start:end]\n",
    "        att = v.attribute\n",
    "        id = att + \"_\" + record.id + \"_\" + str(start) + '_' + str(end)\n",
    "        seq = SeqRecord(Seq(new_seq), id=id, description=\"_\")\n",
    "        if not att in buffer_mites:\n",
    "            buffer_mites[att] = []\n",
    "        buffer_mites[att].append(seq)\n",
    "        count += 1\n",
    "        curr_new = int(count * 100 * 1.0 / (total * 1.0))\n",
    "        if curr_new != curr:\n",
    "            curr = curr_new\n",
    "            if curr_new % 1 == 0:\n",
    "                print(curr_new)"
   ]
  },
  {
   "cell_type": "code",
   "execution_count": null,
   "metadata": {},
   "outputs": [],
   "source": []
  },
  {
   "cell_type": "code",
   "execution_count": null,
   "metadata": {},
   "outputs": [],
   "source": []
  },
  {
   "cell_type": "code",
   "execution_count": null,
   "metadata": {},
   "outputs": [],
   "source": []
  }
 ],
 "metadata": {
  "kernelspec": {
   "display_name": "Python 3",
   "language": "python",
   "name": "python3"
  },
  "language_info": {
   "codemirror_mode": {
    "name": "ipython",
    "version": 3
   },
   "file_extension": ".py",
   "mimetype": "text/x-python",
   "name": "python",
   "nbconvert_exporter": "python",
   "pygments_lexer": "ipython3",
   "version": "3.6.5"
  }
 },
 "nbformat": 4,
 "nbformat_minor": 2
}
