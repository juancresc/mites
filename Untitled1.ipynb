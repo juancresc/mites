{
 "cells": [
  {
   "cell_type": "code",
   "execution_count": 19,
   "metadata": {},
   "outputs": [],
   "source": [
    "import pandas as pd\n",
    "from Bio import SeqIO\n",
    "from Bio.SeqRecord import SeqRecord\n",
    "from Bio.Seq import Seq\n",
    "import os\n"
   ]
  },
  {
   "cell_type": "code",
   "execution_count": 20,
   "metadata": {},
   "outputs": [],
   "source": [
    "clus_files = 'data/wheat/clusters/'\n",
    "outfile = 'data/wheat/one_of_each.fasta'"
   ]
  },
  {
   "cell_type": "code",
   "execution_count": null,
   "metadata": {},
   "outputs": [],
   "source": []
  },
  {
   "cell_type": "code",
   "execution_count": 21,
   "metadata": {},
   "outputs": [],
   "source": [
    "df = pd.read_csv('data/wheat/res.csv', sep=',', header=None)"
   ]
  },
  {
   "cell_type": "code",
   "execution_count": 23,
   "metadata": {},
   "outputs": [
    {
     "data": {
      "text/plain": [
       "65"
      ]
     },
     "execution_count": 23,
     "metadata": {},
     "output_type": "execute_result"
    }
   ],
   "source": [
    "buffer = []\n",
    "for k,v in df.iterrows():\n",
    "    file = v[0]\n",
    "    file = file[:-6]\n",
    "    file_1, file_2 = file.split('_c_')\n",
    "    res = 'data/wheat/clusters/' + file_1  + '/c_' + file_2\n",
    "    fasta_seq = SeqIO.parse(res, 'fasta')\n",
    "    for record in fasta_seq:\n",
    "        buffer.append(record)\n",
    "        break\n",
    "SeqIO.write(buffer, outfile, \"fasta\")\n"
   ]
  },
  {
   "cell_type": "code",
   "execution_count": null,
   "metadata": {},
   "outputs": [],
   "source": []
  },
  {
   "cell_type": "code",
   "execution_count": null,
   "metadata": {},
   "outputs": [],
   "source": [
    "buffer = []\n",
    "mite_count = 0\n",
    "for cluster in clusters:\n",
    "    c_dir = clus_files + cluster \n",
    "    fasta_seq = SeqIO.parse(c_dir, 'fasta')\n",
    "    found = False\n",
    "    count = 0\n",
    "    dismiss = False\n",
    "    seqname = ''\n",
    "    for record in fasta_seq:\n",
    "        if len(str(record.seq)) > 1100:\n",
    "            dismiss = True\n",
    "            seqname = record.id\n",
    "            break\n",
    "        if not 'MITE_T' in record.id:\n",
    "            found = True\n",
    "            seqname = record.id\n",
    "        count += 1\n",
    "    if not found and not dismiss:\n",
    "        \n",
    "        seqname = 'MITE_' + str(mite_count)\n",
    "        print(cluster, count, 'new', seqname)\n",
    "        mite_count += 1\n",
    "    if found and not dismiss:\n",
    "        print(cluster, count, seqname)\n",
    "    if dismiss:\n",
    "        print(cluster, count, 'dismiss', seqname)\n",
    "    else:\n",
    "        seq = SeqRecord(record.seq, id=seqname, description=\"_\")\n",
    "        buffer.append(seq)\n",
    "SeqIO.write(buffer, outfile, \"fasta\")\n"
   ]
  },
  {
   "cell_type": "code",
   "execution_count": null,
   "metadata": {},
   "outputs": [],
   "source": []
  }
 ],
 "metadata": {
  "kernelspec": {
   "display_name": "Python 3",
   "language": "python",
   "name": "python3"
  },
  "language_info": {
   "codemirror_mode": {
    "name": "ipython",
    "version": 3
   },
   "file_extension": ".py",
   "mimetype": "text/x-python",
   "name": "python",
   "nbconvert_exporter": "python",
   "pygments_lexer": "ipython3",
   "version": "3.6.5"
  }
 },
 "nbformat": 4,
 "nbformat_minor": 2
}
