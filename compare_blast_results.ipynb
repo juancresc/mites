{
 "cells": [
  {
   "cell_type": "code",
   "execution_count": 30,
   "metadata": {},
   "outputs": [],
   "source": [
    "import pandas as pd"
   ]
  },
  {
   "cell_type": "code",
   "execution_count": 116,
   "metadata": {},
   "outputs": [],
   "source": [
    "where = 'wheat'"
   ]
  },
  {
   "cell_type": "code",
   "execution_count": 98,
   "metadata": {},
   "outputs": [],
   "source": [
    "where = 'rice'"
   ]
  },
  {
   "cell_type": "code",
   "execution_count": 74,
   "metadata": {},
   "outputs": [],
   "source": [
    "where = 'stuberosum'\n"
   ]
  },
  {
   "cell_type": "code",
   "execution_count": 117,
   "metadata": {},
   "outputs": [
    {
     "data": {
      "text/plain": [
       "'/home/juan/Desktop/juan/bio/mites/data/wheat/allmites.fasta.csv'"
      ]
     },
     "execution_count": 117,
     "metadata": {},
     "output_type": "execute_result"
    }
   ],
   "source": [
    "file_blast = \"/home/juan/Desktop/juan/bio/mites/data/\" + where + \"/allmites.fasta.csv\"\n",
    "file_blast"
   ]
  },
  {
   "cell_type": "code",
   "execution_count": 118,
   "metadata": {},
   "outputs": [],
   "source": [
    "df = pd.read_csv(file_blast, index_col=False, sep='\\t', comment='#', header=None)"
   ]
  },
  {
   "cell_type": "code",
   "execution_count": 119,
   "metadata": {},
   "outputs": [],
   "source": [
    "cols = ['qseqid','sseqid','qstart','qend','sstart','send','mismatch','gaps','pident','evalue','length','qlen','slen','qcovs']\n",
    "df.columns = cols"
   ]
  },
  {
   "cell_type": "code",
   "execution_count": 120,
   "metadata": {},
   "outputs": [
    {
     "name": "stdout",
     "output_type": "stream",
     "text": [
      "37229966\n"
     ]
    }
   ],
   "source": [
    "print(len(df.index))"
   ]
  },
  {
   "cell_type": "code",
   "execution_count": 121,
   "metadata": {},
   "outputs": [
    {
     "data": {
      "text/html": [
       "<div>\n",
       "<style scoped>\n",
       "    .dataframe tbody tr th:only-of-type {\n",
       "        vertical-align: middle;\n",
       "    }\n",
       "\n",
       "    .dataframe tbody tr th {\n",
       "        vertical-align: top;\n",
       "    }\n",
       "\n",
       "    .dataframe thead th {\n",
       "        text-align: right;\n",
       "    }\n",
       "</style>\n",
       "<table border=\"1\" class=\"dataframe\">\n",
       "  <thead>\n",
       "    <tr style=\"text-align: right;\">\n",
       "      <th></th>\n",
       "      <th>qseqid</th>\n",
       "      <th>sseqid</th>\n",
       "      <th>qstart</th>\n",
       "      <th>qend</th>\n",
       "      <th>sstart</th>\n",
       "      <th>send</th>\n",
       "      <th>mismatch</th>\n",
       "      <th>gaps</th>\n",
       "      <th>pident</th>\n",
       "      <th>evalue</th>\n",
       "      <th>length</th>\n",
       "      <th>qlen</th>\n",
       "      <th>slen</th>\n",
       "      <th>qcovs</th>\n",
       "    </tr>\n",
       "  </thead>\n",
       "  <tbody>\n",
       "    <tr>\n",
       "      <th>0</th>\n",
       "      <td>MITE_T_1|chr2B|413009710|413010196|AT|24|F1</td>\n",
       "      <td>2B</td>\n",
       "      <td>1</td>\n",
       "      <td>486</td>\n",
       "      <td>413009711</td>\n",
       "      <td>413010196</td>\n",
       "      <td>0</td>\n",
       "      <td>0</td>\n",
       "      <td>100.00</td>\n",
       "      <td>0.0</td>\n",
       "      <td>486</td>\n",
       "      <td>486</td>\n",
       "      <td>801256715</td>\n",
       "      <td>100</td>\n",
       "    </tr>\n",
       "    <tr>\n",
       "      <th>1</th>\n",
       "      <td>MITE_T_1|chr2B|413009710|413010196|AT|24|F1</td>\n",
       "      <td>2B</td>\n",
       "      <td>3</td>\n",
       "      <td>484</td>\n",
       "      <td>727734740</td>\n",
       "      <td>727734259</td>\n",
       "      <td>21</td>\n",
       "      <td>2</td>\n",
       "      <td>95.24</td>\n",
       "      <td>0.0</td>\n",
       "      <td>483</td>\n",
       "      <td>486</td>\n",
       "      <td>801256715</td>\n",
       "      <td>100</td>\n",
       "    </tr>\n",
       "    <tr>\n",
       "      <th>2</th>\n",
       "      <td>MITE_T_1|chr2B|413009710|413010196|AT|24|F1</td>\n",
       "      <td>2B</td>\n",
       "      <td>4</td>\n",
       "      <td>486</td>\n",
       "      <td>394110007</td>\n",
       "      <td>394110490</td>\n",
       "      <td>23</td>\n",
       "      <td>1</td>\n",
       "      <td>95.04</td>\n",
       "      <td>0.0</td>\n",
       "      <td>484</td>\n",
       "      <td>486</td>\n",
       "      <td>801256715</td>\n",
       "      <td>100</td>\n",
       "    </tr>\n",
       "  </tbody>\n",
       "</table>\n",
       "</div>"
      ],
      "text/plain": [
       "                                        qseqid sseqid  qstart  qend  \\\n",
       "0  MITE_T_1|chr2B|413009710|413010196|AT|24|F1     2B       1   486   \n",
       "1  MITE_T_1|chr2B|413009710|413010196|AT|24|F1     2B       3   484   \n",
       "2  MITE_T_1|chr2B|413009710|413010196|AT|24|F1     2B       4   486   \n",
       "\n",
       "      sstart       send  mismatch  gaps  pident  evalue  length  qlen  \\\n",
       "0  413009711  413010196         0     0  100.00     0.0     486   486   \n",
       "1  727734740  727734259        21     2   95.24     0.0     483   486   \n",
       "2  394110007  394110490        23     1   95.04     0.0     484   486   \n",
       "\n",
       "        slen  qcovs  \n",
       "0  801256715    100  \n",
       "1  801256715    100  \n",
       "2  801256715    100  "
      ]
     },
     "execution_count": 121,
     "metadata": {},
     "output_type": "execute_result"
    }
   ],
   "source": [
    "df.head(3)"
   ]
  },
  {
   "cell_type": "code",
   "execution_count": 122,
   "metadata": {},
   "outputs": [
    {
     "name": "stdout",
     "output_type": "stream",
     "text": [
      "22561911\n"
     ]
    }
   ],
   "source": [
    "df = df[((df.length / df.qlen) >= 0.8)]\n",
    "print(len(df.index))"
   ]
  },
  {
   "cell_type": "code",
   "execution_count": 123,
   "metadata": {},
   "outputs": [
    {
     "name": "stdout",
     "output_type": "stream",
     "text": [
      "22561902\n"
     ]
    }
   ],
   "source": [
    "df = df[((df.length / df.qlen) <= 1.2)]\n",
    "print(len(df.index))"
   ]
  },
  {
   "cell_type": "code",
   "execution_count": 124,
   "metadata": {},
   "outputs": [],
   "source": [
    "#df = df[df.pident > 80]\n",
    "#print(len(df.index))"
   ]
  },
  {
   "cell_type": "code",
   "execution_count": 125,
   "metadata": {},
   "outputs": [
    {
     "name": "stdout",
     "output_type": "stream",
     "text": [
      "6476\n"
     ]
    }
   ],
   "source": [
    "group_1 = df.groupby(['qseqid'],as_index=False).agg({\"sseqid\": \"count\", 'pident':'mean'})\n",
    "print(len(group_1.index))"
   ]
  },
  {
   "cell_type": "code",
   "execution_count": 126,
   "metadata": {},
   "outputs": [],
   "source": [
    "group_1 = group_1.sort_values(['pident','sseqid'],ascending=False)"
   ]
  },
  {
   "cell_type": "code",
   "execution_count": 127,
   "metadata": {},
   "outputs": [
    {
     "name": "stdout",
     "output_type": "stream",
     "text": [
      "6257\n"
     ]
    }
   ],
   "source": [
    "group_1 = group_1[group_1.sseqid > 5]\n",
    "print(len(group_1.index))"
   ]
  },
  {
   "cell_type": "code",
   "execution_count": 128,
   "metadata": {},
   "outputs": [],
   "source": [
    "group_1.to_csv(\"data/\" + where + \"/groupped.csv\", sep=\"\\t\", index=None)"
   ]
  },
  {
   "cell_type": "code",
   "execution_count": 129,
   "metadata": {},
   "outputs": [],
   "source": [
    "#filtrar solo con menos que dos mismatches y gaps"
   ]
  },
  {
   "cell_type": "code",
   "execution_count": 130,
   "metadata": {},
   "outputs": [
    {
     "name": "stdout",
     "output_type": "stream",
     "text": [
      "31980\n"
     ]
    }
   ],
   "source": [
    "df_filtered = df[(df.mismatch + df.gaps) < 2]\n",
    "print(len(df_filtered.index))"
   ]
  },
  {
   "cell_type": "code",
   "execution_count": 131,
   "metadata": {},
   "outputs": [
    {
     "name": "stdout",
     "output_type": "stream",
     "text": [
      "6249\n"
     ]
    }
   ],
   "source": [
    "group_2 = df_filtered.groupby(['qseqid'],as_index=False).agg({\"sseqid\": \"count\", 'pident':'mean'})\n",
    "print(len(group_2.index))"
   ]
  },
  {
   "cell_type": "code",
   "execution_count": 132,
   "metadata": {},
   "outputs": [
    {
     "name": "stdout",
     "output_type": "stream",
     "text": [
      "406\n"
     ]
    }
   ],
   "source": [
    "group_2 = group_2[group_2.sseqid > 5]\n",
    "print(len(group_2.index))"
   ]
  },
  {
   "cell_type": "code",
   "execution_count": 133,
   "metadata": {},
   "outputs": [],
   "source": [
    "group_2 = group_2.sort_values(['pident','sseqid'],ascending=False)\n",
    "group_2.to_csv(\"data/\" + where + \"/groupped_2.csv\", sep=\"\\t\", index=None)"
   ]
  },
  {
   "cell_type": "code",
   "execution_count": null,
   "metadata": {},
   "outputs": [],
   "source": []
  }
 ],
 "metadata": {
  "kernelspec": {
   "display_name": "Python 3",
   "language": "python",
   "name": "python3"
  },
  "language_info": {
   "codemirror_mode": {
    "name": "ipython",
    "version": 3
   },
   "file_extension": ".py",
   "mimetype": "text/x-python",
   "name": "python",
   "nbconvert_exporter": "python",
   "pygments_lexer": "ipython3",
   "version": "3.6.5"
  }
 },
 "nbformat": 4,
 "nbformat_minor": 2
}
