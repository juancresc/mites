{
 "cells": [
  {
   "cell_type": "code",
   "execution_count": 4,
   "metadata": {},
   "outputs": [],
   "source": [
    "import pandas as pd\n",
    "from Bio import SeqIO\n",
    "from Bio.SeqRecord import SeqRecord\n",
    "from Bio.Seq import Seq"
   ]
  },
  {
   "cell_type": "code",
   "execution_count": 5,
   "metadata": {},
   "outputs": [],
   "source": [
    "file_gff = \"/home/juan/Desktop/juan/bio/mites/data/blast/families_tgac.filtered.80.csv.gff\"\n",
    "dir_fasta = \"/home/juan/Desktop/juan/bio/data/IWGSC/by_chr/\"\n",
    "file_out_fasta = \"/home/juan/Desktop/juan/bio/mites/data/mites/tgac_mites.fasta\""
   ]
  },
  {
   "cell_type": "code",
   "execution_count": 6,
   "metadata": {},
   "outputs": [
    {
     "name": "stdout",
     "output_type": "stream",
     "text": [
      "1482717\n"
     ]
    }
   ],
   "source": [
    "df_gff = pd.read_csv(file_gff, index_col=False, sep='\\t', comment='#')\n",
    "df_gff.columns = ['seqname', 'source', 'feature', 'start', 'end', 'score', 'strand', 'frame', 'attribute']\n",
    "print(len(df_gff.index))"
   ]
  },
  {
   "cell_type": "code",
   "execution_count": null,
   "metadata": {},
   "outputs": [],
   "source": [
    "records = {}\n",
    "\n",
    "buffer_seqs = []\n",
    "for k,v in df_gff.iterrows():\n",
    "    gene = v.attribute\n",
    "    end = max(v.end, v.start)\n",
    "    start = min(v.end, v.start)\n",
    "    start = max(start - padding, 0)\n",
    "    end += padding\n",
    "    if not v.seqname in records:\n",
    "        records[v.seqname] = SeqIO.read(dir_fasta + v.seqname + '.fasta', 'fasta')\n",
    "    record = records[v.seqname]\n",
    "    clean_seq = ''.join(str(record.seq).splitlines())\n",
    "    new_seq = clean_seq[start:end]\n",
    "    desc = \"seq:\" + str(v.seqname)\n",
    "    desc += \" start:\" + str(start)\n",
    "    desc += \" end:\" + str(end)\n",
    "    desc += \" strand:\" + str(v.strand)\n",
    "    seq = SeqRecord(Seq(new_seq), id=gene, description=desc)\n",
    "    buffer_seqs.append(seq)\n"
   ]
  },
  {
   "cell_type": "code",
   "execution_count": null,
   "metadata": {},
   "outputs": [],
   "source": [
    "SeqIO.write(buffer_seqs, file_out_fasta, \"fasta\")\n",
    "print(\"%i written to %s\" % (len(buffer_seqs), file_out_fasta) )"
   ]
  },
  {
   "cell_type": "code",
   "execution_count": null,
   "metadata": {},
   "outputs": [],
   "source": []
  }
 ],
 "metadata": {
  "kernelspec": {
   "display_name": "Python 3",
   "language": "python",
   "name": "python3"
  },
  "language_info": {
   "codemirror_mode": {
    "name": "ipython",
    "version": 3
   },
   "file_extension": ".py",
   "mimetype": "text/x-python",
   "name": "python",
   "nbconvert_exporter": "python",
   "pygments_lexer": "ipython3",
   "version": "3.6.5"
  }
 },
 "nbformat": 4,
 "nbformat_minor": 2
}
